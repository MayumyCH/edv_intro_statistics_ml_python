{
 "cells": [
  {
   "cell_type": "markdown",
   "metadata": {},
   "source": [
    "# INTRODUCCION A ESTADISTICA"
   ]
  },
  {
   "cell_type": "markdown",
   "metadata": {},
   "source": [
    "**AGENDA**\n",
    "\n",
    "- ¿Que es la estadistica?\n",
    "- Muestras (SAMPLING)\n",
    "- Valor esperado\n",
    "- Varianza y desvio estandar\n",
    "- Dispersion\n",
    "- Distribucion normal\n",
    "- Asimetria\n",
    "- Curtosis\n",
    "- Probabilidad\n",
    "- Percentiles\n",
    "\n",
    "--- "
   ]
  },
  {
   "cell_type": "markdown",
   "metadata": {},
   "source": [
    "# Teoria\n",
    "\n",
    "## ¿Que es la estadistica?\n",
    "Rama de las matematicas que tiene dos areas:\n",
    "\n",
    "- **La estadistica Descriptiva**\n",
    "\n",
    "    Caracterizar los datos, entenderlos, presentarlos -> **Analisis exploratorio de los datos**\n",
    "    \n",
    "    \n",
    "- **La estadistica Inferencial**\n",
    "\n",
    "    A partir de una muestra, inferimos sobre la poblacion total -> **Modelos ML**\n",
    "    \n",
    "## Muestras\n",
    "Nos basamos en estos para inferir los totales.\n",
    "Tipos de muestras: Aleatorias (TR/TS) y Sesgaga ( Gender bias)\n",
    "\n",
    "## Valor esperado\n",
    "- Captura el centro de la distribucion\n",
    "- Promedio de muchas muestras independientes de dicha distribucion\n",
    "- Mientras mas datos mas precisos\n",
    "\n",
    "## Varianza, desvio estandar y dispersion\n",
    "Metricas de dispersion\n",
    "\n",
    "En promedio, cuanto se desvia cada del valor del promedio\n",
    "- desvio estandar: Nos permite saber cuanto se alejan del promedio (dispersion)\n",
    "\n",
    "## Distribucion\n",
    "Funciones asociada con la probabiidad de que suceda un suceso\n",
    "\n",
    "- Distribuciones Discretas (Categoricas) - cantidad de peliculas vistas\n",
    "- Distribuciones Continuas (Numericas) - cantidad de minutos\n",
    "- Distribuciones Normal: nos permite conocer y poder sacar conclusiones mas rapido\n",
    "\n",
    "<img src=\"https://i.ibb.co/5BkcBg0/Selecci-n-161.png\" alt=\"Selecci-n-161\" border=\"0\">\n",
    "\n"
   ]
  },
  {
   "cell_type": "markdown",
   "metadata": {},
   "source": [
    "# Practica"
   ]
  },
  {
   "cell_type": "code",
   "execution_count": 3,
   "metadata": {},
   "outputs": [],
   "source": [
    "import pandas as pd"
   ]
  },
  {
   "cell_type": "code",
   "execution_count": 4,
   "metadata": {},
   "outputs": [],
   "source": [
    "data_spotify=pd.read_csv('https://raw.githubusercontent.com/rfordatascience/tidytuesday/master/data/2020/2020-01-21/spotify_songs.csv')"
   ]
  },
  {
   "cell_type": "markdown",
   "metadata": {},
   "source": [
    "### 1) Estadística descriptiva\n",
    "\n",
    "Video AE3"
   ]
  },
  {
   "cell_type": "code",
   "execution_count": 8,
   "metadata": {},
   "outputs": [],
   "source": [
    "# pip install pandas-profiling"
   ]
  },
  {
   "cell_type": "code",
   "execution_count": 10,
   "metadata": {},
   "outputs": [],
   "source": [
    "# pip install funpymodeling"
   ]
  },
  {
   "cell_type": "code",
   "execution_count": 11,
   "metadata": {},
   "outputs": [],
   "source": [
    "from pandas_profiling import ProfileReport\n",
    "\n",
    "# describir los datos\n",
    "\n",
    "# funpymodeling LIBRERIA DE R \n",
    "from funpymodeling.exploratory import status, profiling_num, freq_tbl"
   ]
  },
  {
   "cell_type": "markdown",
   "metadata": {},
   "source": [
    "[Video intro a funpymodeling](https://www.youtube.com/watch?v=1wwQ9mWxrVE)"
   ]
  },
  {
   "cell_type": "code",
   "execution_count": 12,
   "metadata": {},
   "outputs": [
    {
     "data": {
      "text/html": [
       "<div>\n",
       "<style scoped>\n",
       "    .dataframe tbody tr th:only-of-type {\n",
       "        vertical-align: middle;\n",
       "    }\n",
       "\n",
       "    .dataframe tbody tr th {\n",
       "        vertical-align: top;\n",
       "    }\n",
       "\n",
       "    .dataframe thead th {\n",
       "        text-align: right;\n",
       "    }\n",
       "</style>\n",
       "<table border=\"1\" class=\"dataframe\">\n",
       "  <thead>\n",
       "    <tr style=\"text-align: right;\">\n",
       "      <th></th>\n",
       "      <th>variable</th>\n",
       "      <th>q_nan</th>\n",
       "      <th>p_nan</th>\n",
       "      <th>q_zeros</th>\n",
       "      <th>p_zeros</th>\n",
       "      <th>unique</th>\n",
       "      <th>type</th>\n",
       "    </tr>\n",
       "  </thead>\n",
       "  <tbody>\n",
       "    <tr>\n",
       "      <th>0</th>\n",
       "      <td>track_id</td>\n",
       "      <td>0</td>\n",
       "      <td>0.000000</td>\n",
       "      <td>0</td>\n",
       "      <td>0.000000</td>\n",
       "      <td>28356</td>\n",
       "      <td>object</td>\n",
       "    </tr>\n",
       "    <tr>\n",
       "      <th>1</th>\n",
       "      <td>track_name</td>\n",
       "      <td>5</td>\n",
       "      <td>0.000152</td>\n",
       "      <td>0</td>\n",
       "      <td>0.000000</td>\n",
       "      <td>23449</td>\n",
       "      <td>object</td>\n",
       "    </tr>\n",
       "    <tr>\n",
       "      <th>2</th>\n",
       "      <td>track_artist</td>\n",
       "      <td>5</td>\n",
       "      <td>0.000152</td>\n",
       "      <td>0</td>\n",
       "      <td>0.000000</td>\n",
       "      <td>10692</td>\n",
       "      <td>object</td>\n",
       "    </tr>\n",
       "    <tr>\n",
       "      <th>3</th>\n",
       "      <td>track_popularity</td>\n",
       "      <td>0</td>\n",
       "      <td>0.000000</td>\n",
       "      <td>2703</td>\n",
       "      <td>0.082326</td>\n",
       "      <td>101</td>\n",
       "      <td>int64</td>\n",
       "    </tr>\n",
       "    <tr>\n",
       "      <th>4</th>\n",
       "      <td>track_album_id</td>\n",
       "      <td>0</td>\n",
       "      <td>0.000000</td>\n",
       "      <td>0</td>\n",
       "      <td>0.000000</td>\n",
       "      <td>22545</td>\n",
       "      <td>object</td>\n",
       "    </tr>\n",
       "    <tr>\n",
       "      <th>5</th>\n",
       "      <td>track_album_name</td>\n",
       "      <td>5</td>\n",
       "      <td>0.000152</td>\n",
       "      <td>0</td>\n",
       "      <td>0.000000</td>\n",
       "      <td>19743</td>\n",
       "      <td>object</td>\n",
       "    </tr>\n",
       "    <tr>\n",
       "      <th>6</th>\n",
       "      <td>track_album_release_date</td>\n",
       "      <td>0</td>\n",
       "      <td>0.000000</td>\n",
       "      <td>0</td>\n",
       "      <td>0.000000</td>\n",
       "      <td>4530</td>\n",
       "      <td>object</td>\n",
       "    </tr>\n",
       "    <tr>\n",
       "      <th>7</th>\n",
       "      <td>playlist_name</td>\n",
       "      <td>0</td>\n",
       "      <td>0.000000</td>\n",
       "      <td>0</td>\n",
       "      <td>0.000000</td>\n",
       "      <td>449</td>\n",
       "      <td>object</td>\n",
       "    </tr>\n",
       "    <tr>\n",
       "      <th>8</th>\n",
       "      <td>playlist_id</td>\n",
       "      <td>0</td>\n",
       "      <td>0.000000</td>\n",
       "      <td>0</td>\n",
       "      <td>0.000000</td>\n",
       "      <td>471</td>\n",
       "      <td>object</td>\n",
       "    </tr>\n",
       "    <tr>\n",
       "      <th>9</th>\n",
       "      <td>playlist_genre</td>\n",
       "      <td>0</td>\n",
       "      <td>0.000000</td>\n",
       "      <td>0</td>\n",
       "      <td>0.000000</td>\n",
       "      <td>6</td>\n",
       "      <td>object</td>\n",
       "    </tr>\n",
       "    <tr>\n",
       "      <th>10</th>\n",
       "      <td>playlist_subgenre</td>\n",
       "      <td>0</td>\n",
       "      <td>0.000000</td>\n",
       "      <td>0</td>\n",
       "      <td>0.000000</td>\n",
       "      <td>24</td>\n",
       "      <td>object</td>\n",
       "    </tr>\n",
       "    <tr>\n",
       "      <th>11</th>\n",
       "      <td>danceability</td>\n",
       "      <td>0</td>\n",
       "      <td>0.000000</td>\n",
       "      <td>1</td>\n",
       "      <td>0.000030</td>\n",
       "      <td>822</td>\n",
       "      <td>float64</td>\n",
       "    </tr>\n",
       "    <tr>\n",
       "      <th>12</th>\n",
       "      <td>energy</td>\n",
       "      <td>0</td>\n",
       "      <td>0.000000</td>\n",
       "      <td>0</td>\n",
       "      <td>0.000000</td>\n",
       "      <td>952</td>\n",
       "      <td>float64</td>\n",
       "    </tr>\n",
       "    <tr>\n",
       "      <th>13</th>\n",
       "      <td>key</td>\n",
       "      <td>0</td>\n",
       "      <td>0.000000</td>\n",
       "      <td>3454</td>\n",
       "      <td>0.105199</td>\n",
       "      <td>12</td>\n",
       "      <td>int64</td>\n",
       "    </tr>\n",
       "    <tr>\n",
       "      <th>14</th>\n",
       "      <td>loudness</td>\n",
       "      <td>0</td>\n",
       "      <td>0.000000</td>\n",
       "      <td>0</td>\n",
       "      <td>0.000000</td>\n",
       "      <td>10222</td>\n",
       "      <td>float64</td>\n",
       "    </tr>\n",
       "    <tr>\n",
       "      <th>15</th>\n",
       "      <td>mode</td>\n",
       "      <td>0</td>\n",
       "      <td>0.000000</td>\n",
       "      <td>14259</td>\n",
       "      <td>0.434289</td>\n",
       "      <td>2</td>\n",
       "      <td>int64</td>\n",
       "    </tr>\n",
       "    <tr>\n",
       "      <th>16</th>\n",
       "      <td>speechiness</td>\n",
       "      <td>0</td>\n",
       "      <td>0.000000</td>\n",
       "      <td>1</td>\n",
       "      <td>0.000030</td>\n",
       "      <td>1270</td>\n",
       "      <td>float64</td>\n",
       "    </tr>\n",
       "    <tr>\n",
       "      <th>17</th>\n",
       "      <td>acousticness</td>\n",
       "      <td>0</td>\n",
       "      <td>0.000000</td>\n",
       "      <td>1</td>\n",
       "      <td>0.000030</td>\n",
       "      <td>3731</td>\n",
       "      <td>float64</td>\n",
       "    </tr>\n",
       "    <tr>\n",
       "      <th>18</th>\n",
       "      <td>instrumentalness</td>\n",
       "      <td>0</td>\n",
       "      <td>0.000000</td>\n",
       "      <td>12089</td>\n",
       "      <td>0.368197</td>\n",
       "      <td>4729</td>\n",
       "      <td>float64</td>\n",
       "    </tr>\n",
       "    <tr>\n",
       "      <th>19</th>\n",
       "      <td>liveness</td>\n",
       "      <td>0</td>\n",
       "      <td>0.000000</td>\n",
       "      <td>1</td>\n",
       "      <td>0.000030</td>\n",
       "      <td>1624</td>\n",
       "      <td>float64</td>\n",
       "    </tr>\n",
       "    <tr>\n",
       "      <th>20</th>\n",
       "      <td>valence</td>\n",
       "      <td>0</td>\n",
       "      <td>0.000000</td>\n",
       "      <td>1</td>\n",
       "      <td>0.000030</td>\n",
       "      <td>1362</td>\n",
       "      <td>float64</td>\n",
       "    </tr>\n",
       "    <tr>\n",
       "      <th>21</th>\n",
       "      <td>tempo</td>\n",
       "      <td>0</td>\n",
       "      <td>0.000000</td>\n",
       "      <td>1</td>\n",
       "      <td>0.000030</td>\n",
       "      <td>17684</td>\n",
       "      <td>float64</td>\n",
       "    </tr>\n",
       "    <tr>\n",
       "      <th>22</th>\n",
       "      <td>duration_ms</td>\n",
       "      <td>0</td>\n",
       "      <td>0.000000</td>\n",
       "      <td>0</td>\n",
       "      <td>0.000000</td>\n",
       "      <td>19785</td>\n",
       "      <td>int64</td>\n",
       "    </tr>\n",
       "  </tbody>\n",
       "</table>\n",
       "</div>"
      ],
      "text/plain": [
       "                    variable  q_nan     p_nan  q_zeros   p_zeros  unique  \\\n",
       "0                   track_id      0  0.000000        0  0.000000   28356   \n",
       "1                 track_name      5  0.000152        0  0.000000   23449   \n",
       "2               track_artist      5  0.000152        0  0.000000   10692   \n",
       "3           track_popularity      0  0.000000     2703  0.082326     101   \n",
       "4             track_album_id      0  0.000000        0  0.000000   22545   \n",
       "5           track_album_name      5  0.000152        0  0.000000   19743   \n",
       "6   track_album_release_date      0  0.000000        0  0.000000    4530   \n",
       "7              playlist_name      0  0.000000        0  0.000000     449   \n",
       "8                playlist_id      0  0.000000        0  0.000000     471   \n",
       "9             playlist_genre      0  0.000000        0  0.000000       6   \n",
       "10         playlist_subgenre      0  0.000000        0  0.000000      24   \n",
       "11              danceability      0  0.000000        1  0.000030     822   \n",
       "12                    energy      0  0.000000        0  0.000000     952   \n",
       "13                       key      0  0.000000     3454  0.105199      12   \n",
       "14                  loudness      0  0.000000        0  0.000000   10222   \n",
       "15                      mode      0  0.000000    14259  0.434289       2   \n",
       "16               speechiness      0  0.000000        1  0.000030    1270   \n",
       "17              acousticness      0  0.000000        1  0.000030    3731   \n",
       "18          instrumentalness      0  0.000000    12089  0.368197    4729   \n",
       "19                  liveness      0  0.000000        1  0.000030    1624   \n",
       "20                   valence      0  0.000000        1  0.000030    1362   \n",
       "21                     tempo      0  0.000000        1  0.000030   17684   \n",
       "22               duration_ms      0  0.000000        0  0.000000   19785   \n",
       "\n",
       "       type  \n",
       "0    object  \n",
       "1    object  \n",
       "2    object  \n",
       "3     int64  \n",
       "4    object  \n",
       "5    object  \n",
       "6    object  \n",
       "7    object  \n",
       "8    object  \n",
       "9    object  \n",
       "10   object  \n",
       "11  float64  \n",
       "12  float64  \n",
       "13    int64  \n",
       "14  float64  \n",
       "15    int64  \n",
       "16  float64  \n",
       "17  float64  \n",
       "18  float64  \n",
       "19  float64  \n",
       "20  float64  \n",
       "21  float64  \n",
       "22    int64  "
      ]
     },
     "execution_count": 12,
     "metadata": {},
     "output_type": "execute_result"
    }
   ],
   "source": [
    "status(data_spotify)"
   ]
  },
  {
   "cell_type": "code",
   "execution_count": 13,
   "metadata": {},
   "outputs": [
    {
     "data": {
      "text/html": [
       "<div>\n",
       "<style scoped>\n",
       "    .dataframe tbody tr th:only-of-type {\n",
       "        vertical-align: middle;\n",
       "    }\n",
       "\n",
       "    .dataframe tbody tr th {\n",
       "        vertical-align: top;\n",
       "    }\n",
       "\n",
       "    .dataframe thead th {\n",
       "        text-align: right;\n",
       "    }\n",
       "</style>\n",
       "<table border=\"1\" class=\"dataframe\">\n",
       "  <thead>\n",
       "    <tr style=\"text-align: right;\">\n",
       "      <th></th>\n",
       "      <th>playlist_genre</th>\n",
       "      <th>frequency</th>\n",
       "      <th>percentage</th>\n",
       "      <th>cumulative_perc</th>\n",
       "    </tr>\n",
       "  </thead>\n",
       "  <tbody>\n",
       "    <tr>\n",
       "      <th>0</th>\n",
       "      <td>edm</td>\n",
       "      <td>6043</td>\n",
       "      <td>0.184053</td>\n",
       "      <td>0.184053</td>\n",
       "    </tr>\n",
       "    <tr>\n",
       "      <th>1</th>\n",
       "      <td>rap</td>\n",
       "      <td>5746</td>\n",
       "      <td>0.175007</td>\n",
       "      <td>0.359059</td>\n",
       "    </tr>\n",
       "    <tr>\n",
       "      <th>2</th>\n",
       "      <td>pop</td>\n",
       "      <td>5507</td>\n",
       "      <td>0.167728</td>\n",
       "      <td>0.526787</td>\n",
       "    </tr>\n",
       "    <tr>\n",
       "      <th>3</th>\n",
       "      <td>r&amp;b</td>\n",
       "      <td>5431</td>\n",
       "      <td>0.165413</td>\n",
       "      <td>0.692200</td>\n",
       "    </tr>\n",
       "    <tr>\n",
       "      <th>4</th>\n",
       "      <td>latin</td>\n",
       "      <td>5155</td>\n",
       "      <td>0.157007</td>\n",
       "      <td>0.849207</td>\n",
       "    </tr>\n",
       "    <tr>\n",
       "      <th>5</th>\n",
       "      <td>rock</td>\n",
       "      <td>4951</td>\n",
       "      <td>0.150793</td>\n",
       "      <td>1.000000</td>\n",
       "    </tr>\n",
       "  </tbody>\n",
       "</table>\n",
       "</div>"
      ],
      "text/plain": [
       "  playlist_genre  frequency  percentage  cumulative_perc\n",
       "0            edm       6043    0.184053         0.184053\n",
       "1            rap       5746    0.175007         0.359059\n",
       "2            pop       5507    0.167728         0.526787\n",
       "3            r&b       5431    0.165413         0.692200\n",
       "4          latin       5155    0.157007         0.849207\n",
       "5           rock       4951    0.150793         1.000000"
      ]
     },
     "execution_count": 13,
     "metadata": {},
     "output_type": "execute_result"
    }
   ],
   "source": [
    "freq_tbl(data_spotify.playlist_genre) # Analisis de frecuencia"
   ]
  },
  {
   "cell_type": "markdown",
   "metadata": {},
   "source": [
    "Comparemos las popularidades! ¿Cuales son los géneros más populares?"
   ]
  },
  {
   "cell_type": "code",
   "execution_count": 14,
   "metadata": {},
   "outputs": [
    {
     "data": {
      "text/plain": [
       "playlist_genre\n",
       "pop      47.744870\n",
       "latin    47.026576\n",
       "rap      43.215454\n",
       "rock     41.728338\n",
       "r&b      41.223532\n",
       "edm      34.833526\n",
       "Name: track_popularity, dtype: float64"
      ]
     },
     "execution_count": 14,
     "metadata": {},
     "output_type": "execute_result"
    }
   ],
   "source": [
    "data_spotify.groupby('playlist_genre')['track_popularity'].mean().sort_values(ascending=False)"
   ]
  },
  {
   "cell_type": "markdown",
   "metadata": {},
   "source": [
    "¿Cuáles son los 5 temas más populares?"
   ]
  },
  {
   "cell_type": "code",
   "execution_count": 15,
   "metadata": {},
   "outputs": [
    {
     "data": {
      "text/html": [
       "<div>\n",
       "<style scoped>\n",
       "    .dataframe tbody tr th:only-of-type {\n",
       "        vertical-align: middle;\n",
       "    }\n",
       "\n",
       "    .dataframe tbody tr th {\n",
       "        vertical-align: top;\n",
       "    }\n",
       "\n",
       "    .dataframe thead th {\n",
       "        text-align: right;\n",
       "    }\n",
       "</style>\n",
       "<table border=\"1\" class=\"dataframe\">\n",
       "  <thead>\n",
       "    <tr style=\"text-align: right;\">\n",
       "      <th></th>\n",
       "      <th>track_id</th>\n",
       "      <th>track_name</th>\n",
       "      <th>track_artist</th>\n",
       "      <th>track_popularity</th>\n",
       "      <th>track_album_id</th>\n",
       "      <th>track_album_name</th>\n",
       "      <th>track_album_release_date</th>\n",
       "      <th>playlist_name</th>\n",
       "      <th>playlist_id</th>\n",
       "      <th>playlist_genre</th>\n",
       "      <th>...</th>\n",
       "      <th>key</th>\n",
       "      <th>loudness</th>\n",
       "      <th>mode</th>\n",
       "      <th>speechiness</th>\n",
       "      <th>acousticness</th>\n",
       "      <th>instrumentalness</th>\n",
       "      <th>liveness</th>\n",
       "      <th>valence</th>\n",
       "      <th>tempo</th>\n",
       "      <th>duration_ms</th>\n",
       "    </tr>\n",
       "  </thead>\n",
       "  <tbody>\n",
       "    <tr>\n",
       "      <th>20091</th>\n",
       "      <td>2XU0oxnq2qxCpomAAuJY8K</td>\n",
       "      <td>Dance Monkey</td>\n",
       "      <td>Tones and I</td>\n",
       "      <td>100</td>\n",
       "      <td>0UywfDKYlyiu1b38DRrzYD</td>\n",
       "      <td>Dance Monkey (Stripped Back) / Dance Monkey</td>\n",
       "      <td>2019-10-17</td>\n",
       "      <td>Global Top 50 | 2020 Hits</td>\n",
       "      <td>1KNl4AYfgZtOVm9KHkhPTF</td>\n",
       "      <td>latin</td>\n",
       "      <td>...</td>\n",
       "      <td>6</td>\n",
       "      <td>-6.400</td>\n",
       "      <td>0</td>\n",
       "      <td>0.0924</td>\n",
       "      <td>0.6920</td>\n",
       "      <td>0.000104</td>\n",
       "      <td>0.149</td>\n",
       "      <td>0.513</td>\n",
       "      <td>98.027</td>\n",
       "      <td>209438</td>\n",
       "    </tr>\n",
       "    <tr>\n",
       "      <th>1551</th>\n",
       "      <td>2XU0oxnq2qxCpomAAuJY8K</td>\n",
       "      <td>Dance Monkey</td>\n",
       "      <td>Tones and I</td>\n",
       "      <td>100</td>\n",
       "      <td>0UywfDKYlyiu1b38DRrzYD</td>\n",
       "      <td>Dance Monkey (Stripped Back) / Dance Monkey</td>\n",
       "      <td>2019-10-17</td>\n",
       "      <td>post-teen alternative, indie, pop (large variety)</td>\n",
       "      <td>1y42gwI5cuwjBslPyQNfqb</td>\n",
       "      <td>pop</td>\n",
       "      <td>...</td>\n",
       "      <td>6</td>\n",
       "      <td>-6.400</td>\n",
       "      <td>0</td>\n",
       "      <td>0.0924</td>\n",
       "      <td>0.6920</td>\n",
       "      <td>0.000104</td>\n",
       "      <td>0.149</td>\n",
       "      <td>0.513</td>\n",
       "      <td>98.027</td>\n",
       "      <td>209438</td>\n",
       "    </tr>\n",
       "    <tr>\n",
       "      <th>30202</th>\n",
       "      <td>696DnlkuDOXcMAnKlTgXXK</td>\n",
       "      <td>ROXANNE</td>\n",
       "      <td>Arizona Zervas</td>\n",
       "      <td>99</td>\n",
       "      <td>6HJDrXs0hpebaRFKA1sF90</td>\n",
       "      <td>ROXANNE</td>\n",
       "      <td>2019-10-10</td>\n",
       "      <td>Charts 2020 🔥Top 2020🔥Hits 2020🔥Summer 2020🔥Po...</td>\n",
       "      <td>3xMQTDLOIGvj3lWH5e5x6F</td>\n",
       "      <td>edm</td>\n",
       "      <td>...</td>\n",
       "      <td>6</td>\n",
       "      <td>-5.616</td>\n",
       "      <td>0</td>\n",
       "      <td>0.1480</td>\n",
       "      <td>0.0522</td>\n",
       "      <td>0.000000</td>\n",
       "      <td>0.460</td>\n",
       "      <td>0.457</td>\n",
       "      <td>116.735</td>\n",
       "      <td>163636</td>\n",
       "    </tr>\n",
       "    <tr>\n",
       "      <th>23104</th>\n",
       "      <td>696DnlkuDOXcMAnKlTgXXK</td>\n",
       "      <td>ROXANNE</td>\n",
       "      <td>Arizona Zervas</td>\n",
       "      <td>99</td>\n",
       "      <td>6HJDrXs0hpebaRFKA1sF90</td>\n",
       "      <td>ROXANNE</td>\n",
       "      <td>2019-10-10</td>\n",
       "      <td>Charts 2020 🔥Top 2020🔥Hits 2020🔥Summer 2020🔥Po...</td>\n",
       "      <td>3xMQTDLOIGvj3lWH5e5x6F</td>\n",
       "      <td>r&amp;b</td>\n",
       "      <td>...</td>\n",
       "      <td>6</td>\n",
       "      <td>-5.616</td>\n",
       "      <td>0</td>\n",
       "      <td>0.1480</td>\n",
       "      <td>0.0522</td>\n",
       "      <td>0.000000</td>\n",
       "      <td>0.460</td>\n",
       "      <td>0.457</td>\n",
       "      <td>116.735</td>\n",
       "      <td>163636</td>\n",
       "    </tr>\n",
       "    <tr>\n",
       "      <th>21468</th>\n",
       "      <td>696DnlkuDOXcMAnKlTgXXK</td>\n",
       "      <td>ROXANNE</td>\n",
       "      <td>Arizona Zervas</td>\n",
       "      <td>99</td>\n",
       "      <td>6HJDrXs0hpebaRFKA1sF90</td>\n",
       "      <td>ROXANNE</td>\n",
       "      <td>2019-10-10</td>\n",
       "      <td>Contemporary Urban</td>\n",
       "      <td>6wyJ4bsjZaUKa9f6GeZlAO</td>\n",
       "      <td>r&amp;b</td>\n",
       "      <td>...</td>\n",
       "      <td>6</td>\n",
       "      <td>-5.616</td>\n",
       "      <td>0</td>\n",
       "      <td>0.1480</td>\n",
       "      <td>0.0522</td>\n",
       "      <td>0.000000</td>\n",
       "      <td>0.460</td>\n",
       "      <td>0.457</td>\n",
       "      <td>116.735</td>\n",
       "      <td>163636</td>\n",
       "    </tr>\n",
       "  </tbody>\n",
       "</table>\n",
       "<p>5 rows × 23 columns</p>\n",
       "</div>"
      ],
      "text/plain": [
       "                     track_id    track_name    track_artist  track_popularity  \\\n",
       "20091  2XU0oxnq2qxCpomAAuJY8K  Dance Monkey     Tones and I               100   \n",
       "1551   2XU0oxnq2qxCpomAAuJY8K  Dance Monkey     Tones and I               100   \n",
       "30202  696DnlkuDOXcMAnKlTgXXK       ROXANNE  Arizona Zervas                99   \n",
       "23104  696DnlkuDOXcMAnKlTgXXK       ROXANNE  Arizona Zervas                99   \n",
       "21468  696DnlkuDOXcMAnKlTgXXK       ROXANNE  Arizona Zervas                99   \n",
       "\n",
       "               track_album_id                             track_album_name  \\\n",
       "20091  0UywfDKYlyiu1b38DRrzYD  Dance Monkey (Stripped Back) / Dance Monkey   \n",
       "1551   0UywfDKYlyiu1b38DRrzYD  Dance Monkey (Stripped Back) / Dance Monkey   \n",
       "30202  6HJDrXs0hpebaRFKA1sF90                                      ROXANNE   \n",
       "23104  6HJDrXs0hpebaRFKA1sF90                                      ROXANNE   \n",
       "21468  6HJDrXs0hpebaRFKA1sF90                                      ROXANNE   \n",
       "\n",
       "      track_album_release_date  \\\n",
       "20091               2019-10-17   \n",
       "1551                2019-10-17   \n",
       "30202               2019-10-10   \n",
       "23104               2019-10-10   \n",
       "21468               2019-10-10   \n",
       "\n",
       "                                           playlist_name  \\\n",
       "20091                          Global Top 50 | 2020 Hits   \n",
       "1551   post-teen alternative, indie, pop (large variety)   \n",
       "30202  Charts 2020 🔥Top 2020🔥Hits 2020🔥Summer 2020🔥Po...   \n",
       "23104  Charts 2020 🔥Top 2020🔥Hits 2020🔥Summer 2020🔥Po...   \n",
       "21468                                 Contemporary Urban   \n",
       "\n",
       "                  playlist_id playlist_genre  ... key  loudness  mode  \\\n",
       "20091  1KNl4AYfgZtOVm9KHkhPTF          latin  ...   6    -6.400     0   \n",
       "1551   1y42gwI5cuwjBslPyQNfqb            pop  ...   6    -6.400     0   \n",
       "30202  3xMQTDLOIGvj3lWH5e5x6F            edm  ...   6    -5.616     0   \n",
       "23104  3xMQTDLOIGvj3lWH5e5x6F            r&b  ...   6    -5.616     0   \n",
       "21468  6wyJ4bsjZaUKa9f6GeZlAO            r&b  ...   6    -5.616     0   \n",
       "\n",
       "       speechiness  acousticness  instrumentalness  liveness  valence  \\\n",
       "20091       0.0924        0.6920          0.000104     0.149    0.513   \n",
       "1551        0.0924        0.6920          0.000104     0.149    0.513   \n",
       "30202       0.1480        0.0522          0.000000     0.460    0.457   \n",
       "23104       0.1480        0.0522          0.000000     0.460    0.457   \n",
       "21468       0.1480        0.0522          0.000000     0.460    0.457   \n",
       "\n",
       "         tempo  duration_ms  \n",
       "20091   98.027       209438  \n",
       "1551    98.027       209438  \n",
       "30202  116.735       163636  \n",
       "23104  116.735       163636  \n",
       "21468  116.735       163636  \n",
       "\n",
       "[5 rows x 23 columns]"
      ]
     },
     "execution_count": 15,
     "metadata": {},
     "output_type": "execute_result"
    }
   ],
   "source": [
    "data_spotify.sort_values('track_popularity', ascending=False).head()"
   ]
  },
  {
   "cell_type": "markdown",
   "metadata": {},
   "source": [
    "Ejercicio: Al set de datos anterior, quedarse con la combinación única de `track_id` y `track_name`."
   ]
  },
  {
   "cell_type": "markdown",
   "metadata": {},
   "source": [
    "¿Cuales son los temas que mas aparecen? (con duplicados...)"
   ]
  },
  {
   "cell_type": "code",
   "execution_count": 17,
   "metadata": {},
   "outputs": [
    {
     "data": {
      "text/html": [
       "<div>\n",
       "<style scoped>\n",
       "    .dataframe tbody tr th:only-of-type {\n",
       "        vertical-align: middle;\n",
       "    }\n",
       "\n",
       "    .dataframe tbody tr th {\n",
       "        vertical-align: top;\n",
       "    }\n",
       "\n",
       "    .dataframe thead th {\n",
       "        text-align: right;\n",
       "    }\n",
       "</style>\n",
       "<table border=\"1\" class=\"dataframe\">\n",
       "  <thead>\n",
       "    <tr style=\"text-align: right;\">\n",
       "      <th></th>\n",
       "      <th>track_name</th>\n",
       "      <th>frequency</th>\n",
       "      <th>percentage</th>\n",
       "      <th>cumulative_perc</th>\n",
       "    </tr>\n",
       "  </thead>\n",
       "  <tbody>\n",
       "    <tr>\n",
       "      <th>0</th>\n",
       "      <td>Poison</td>\n",
       "      <td>22</td>\n",
       "      <td>0.000670</td>\n",
       "      <td>0.000670</td>\n",
       "    </tr>\n",
       "    <tr>\n",
       "      <th>1</th>\n",
       "      <td>Breathe</td>\n",
       "      <td>21</td>\n",
       "      <td>0.000640</td>\n",
       "      <td>0.001310</td>\n",
       "    </tr>\n",
       "    <tr>\n",
       "      <th>2</th>\n",
       "      <td>Alive</td>\n",
       "      <td>20</td>\n",
       "      <td>0.000609</td>\n",
       "      <td>0.001919</td>\n",
       "    </tr>\n",
       "    <tr>\n",
       "      <th>3</th>\n",
       "      <td>Forever</td>\n",
       "      <td>20</td>\n",
       "      <td>0.000609</td>\n",
       "      <td>0.002528</td>\n",
       "    </tr>\n",
       "    <tr>\n",
       "      <th>4</th>\n",
       "      <td>Stay</td>\n",
       "      <td>19</td>\n",
       "      <td>0.000579</td>\n",
       "      <td>0.003107</td>\n",
       "    </tr>\n",
       "    <tr>\n",
       "      <th>...</th>\n",
       "      <td>...</td>\n",
       "      <td>...</td>\n",
       "      <td>...</td>\n",
       "      <td>...</td>\n",
       "    </tr>\n",
       "    <tr>\n",
       "      <th>23444</th>\n",
       "      <td>Tonight's the Night (Gonna Be Alright)</td>\n",
       "      <td>1</td>\n",
       "      <td>0.000030</td>\n",
       "      <td>0.999878</td>\n",
       "    </tr>\n",
       "    <tr>\n",
       "      <th>23445</th>\n",
       "      <td>Someday Never Comes</td>\n",
       "      <td>1</td>\n",
       "      <td>0.000030</td>\n",
       "      <td>0.999909</td>\n",
       "    </tr>\n",
       "    <tr>\n",
       "      <th>23446</th>\n",
       "      <td>Dejale Caer To Peso</td>\n",
       "      <td>1</td>\n",
       "      <td>0.000030</td>\n",
       "      <td>0.999939</td>\n",
       "    </tr>\n",
       "    <tr>\n",
       "      <th>23447</th>\n",
       "      <td>The First One</td>\n",
       "      <td>1</td>\n",
       "      <td>0.000030</td>\n",
       "      <td>0.999970</td>\n",
       "    </tr>\n",
       "    <tr>\n",
       "      <th>23448</th>\n",
       "      <td>Trial by Fire</td>\n",
       "      <td>1</td>\n",
       "      <td>0.000030</td>\n",
       "      <td>1.000000</td>\n",
       "    </tr>\n",
       "  </tbody>\n",
       "</table>\n",
       "<p>23449 rows × 4 columns</p>\n",
       "</div>"
      ],
      "text/plain": [
       "                                   track_name  frequency  percentage  \\\n",
       "0                                      Poison         22    0.000670   \n",
       "1                                     Breathe         21    0.000640   \n",
       "2                                       Alive         20    0.000609   \n",
       "3                                     Forever         20    0.000609   \n",
       "4                                        Stay         19    0.000579   \n",
       "...                                       ...        ...         ...   \n",
       "23444  Tonight's the Night (Gonna Be Alright)          1    0.000030   \n",
       "23445                     Someday Never Comes          1    0.000030   \n",
       "23446                     Dejale Caer To Peso          1    0.000030   \n",
       "23447                           The First One          1    0.000030   \n",
       "23448                           Trial by Fire          1    0.000030   \n",
       "\n",
       "       cumulative_perc  \n",
       "0             0.000670  \n",
       "1             0.001310  \n",
       "2             0.001919  \n",
       "3             0.002528  \n",
       "4             0.003107  \n",
       "...                ...  \n",
       "23444         0.999878  \n",
       "23445         0.999909  \n",
       "23446         0.999939  \n",
       "23447         0.999970  \n",
       "23448         1.000000  \n",
       "\n",
       "[23449 rows x 4 columns]"
      ]
     },
     "execution_count": 17,
     "metadata": {},
     "output_type": "execute_result"
    }
   ],
   "source": [
    "freq_track=freq_tbl(data_spotify['track_name'])\n",
    "freq_track"
   ]
  },
  {
   "cell_type": "code",
   "execution_count": null,
   "metadata": {},
   "outputs": [],
   "source": [
    "\n",
    "\n",
    "\n",
    "\n",
    "\n",
    "\n",
    "\n",
    "\n",
    "\n",
    "\n",
    "\n",
    "\n"
   ]
  },
  {
   "cell_type": "markdown",
   "metadata": {},
   "source": [
    "## 2) Estadística inferencial"
   ]
  },
  {
   "cell_type": "markdown",
   "metadata": {},
   "source": [
    "Video AE3"
   ]
  },
  {
   "cell_type": "markdown",
   "metadata": {},
   "source": [
    "### 2.1) Muestras de una población (intuición)"
   ]
  },
  {
   "cell_type": "code",
   "execution_count": 18,
   "metadata": {},
   "outputs": [],
   "source": [
    "muestra_1=data_spotify.sample(n=16000, random_state=1)\n",
    "muestra_2=data_spotify.sample(n=16000, random_state=2)\n",
    "muestra_3=data_spotify.sample(n=16000, random_state=3)"
   ]
  },
  {
   "cell_type": "code",
   "execution_count": 19,
   "metadata": {},
   "outputs": [
    {
     "data": {
      "text/plain": [
       "42.5674375"
      ]
     },
     "execution_count": 19,
     "metadata": {},
     "output_type": "execute_result"
    }
   ],
   "source": [
    "muestra_1.track_popularity.mean()"
   ]
  },
  {
   "cell_type": "code",
   "execution_count": 20,
   "metadata": {},
   "outputs": [
    {
     "data": {
      "text/plain": [
       "42.55375"
      ]
     },
     "execution_count": 20,
     "metadata": {},
     "output_type": "execute_result"
    }
   ],
   "source": [
    "muestra_2.track_popularity.mean()"
   ]
  },
  {
   "cell_type": "code",
   "execution_count": 21,
   "metadata": {},
   "outputs": [
    {
     "data": {
      "text/plain": [
       "42.6625625"
      ]
     },
     "execution_count": 21,
     "metadata": {},
     "output_type": "execute_result"
    }
   ],
   "source": [
    "muestra_3.track_popularity.mean()"
   ]
  },
  {
   "cell_type": "code",
   "execution_count": null,
   "metadata": {},
   "outputs": [],
   "source": [
    "muestra_1  # TR - data de entrenamiento\n",
    "muestra_2  # TS - data de validacion"
   ]
  },
  {
   "cell_type": "markdown",
   "metadata": {},
   "source": [
    "¿Bastante estable alrededor de 42 no?"
   ]
  },
  {
   "cell_type": "code",
   "execution_count": null,
   "metadata": {},
   "outputs": [],
   "source": [
    "\n",
    "\n",
    "\n",
    "\n",
    "\n",
    "\n",
    "\n",
    "\n",
    "\n",
    "\n",
    "\n",
    "\n",
    "\n",
    "\n",
    "\n",
    "\n"
   ]
  },
  {
   "cell_type": "markdown",
   "metadata": {},
   "source": [
    "### 2.2) ¿Que pasa cuando la muestra baja mucho?"
   ]
  },
  {
   "cell_type": "code",
   "execution_count": 22,
   "metadata": {},
   "outputs": [],
   "source": [
    "muestra_4=data_spotify.sample(n=100, random_state=1)\n",
    "muestra_5=data_spotify.sample(n=100, random_state=2)\n",
    "muestra_6=data_spotify.sample(n=100, random_state=3)"
   ]
  },
  {
   "cell_type": "code",
   "execution_count": 23,
   "metadata": {},
   "outputs": [
    {
     "data": {
      "text/plain": [
       "41.41"
      ]
     },
     "execution_count": 23,
     "metadata": {},
     "output_type": "execute_result"
    }
   ],
   "source": [
    "muestra_4.track_popularity.mean()"
   ]
  },
  {
   "cell_type": "code",
   "execution_count": 24,
   "metadata": {},
   "outputs": [
    {
     "data": {
      "text/plain": [
       "41.58"
      ]
     },
     "execution_count": 24,
     "metadata": {},
     "output_type": "execute_result"
    }
   ],
   "source": [
    "muestra_5.track_popularity.mean()"
   ]
  },
  {
   "cell_type": "code",
   "execution_count": 25,
   "metadata": {},
   "outputs": [
    {
     "data": {
      "text/plain": [
       "44.3"
      ]
     },
     "execution_count": 25,
     "metadata": {},
     "output_type": "execute_result"
    }
   ],
   "source": [
    "muestra_6.track_popularity.mean()"
   ]
  },
  {
   "cell_type": "markdown",
   "metadata": {},
   "source": [
    "En la muestra 6 hay un **desvío de casi el 10%!**\n",
    "\n",
    "Al tener menos valores en la muestra mas desvio voy a obtener en los promedios"
   ]
  },
  {
   "cell_type": "markdown",
   "metadata": {},
   "source": [
    "¿Cuántos datos necesito para hacer un modelo predictivo?\n"
   ]
  },
  {
   "cell_type": "markdown",
   "metadata": {},
   "source": [
    "#### Dos tipos de muestras:\n",
    "    \n",
    "- Muestras independientes -> (modelos predictivos)\n",
    "- Muestras relacionadas -> (Area de medicina)"
   ]
  },
  {
   "cell_type": "code",
   "execution_count": null,
   "metadata": {},
   "outputs": [],
   "source": []
  },
  {
   "cell_type": "markdown",
   "metadata": {},
   "source": [
    "## 3) Promedio y desvío estándar"
   ]
  },
  {
   "cell_type": "code",
   "execution_count": 26,
   "metadata": {},
   "outputs": [],
   "source": [
    "data_pop_rap1=data_spotify[data_spotify['playlist_genre'].isin(['pop', 'rap', 'latin'])]\n",
    "data_pop_rap2=data_pop_rap1[['playlist_genre','duration_ms']]"
   ]
  },
  {
   "cell_type": "code",
   "execution_count": 27,
   "metadata": {},
   "outputs": [
    {
     "data": {
      "text/html": [
       "<div>\n",
       "<style scoped>\n",
       "    .dataframe tbody tr th:only-of-type {\n",
       "        vertical-align: middle;\n",
       "    }\n",
       "\n",
       "    .dataframe tbody tr th {\n",
       "        vertical-align: top;\n",
       "    }\n",
       "\n",
       "    .dataframe thead th {\n",
       "        text-align: right;\n",
       "    }\n",
       "</style>\n",
       "<table border=\"1\" class=\"dataframe\">\n",
       "  <thead>\n",
       "    <tr style=\"text-align: right;\">\n",
       "      <th></th>\n",
       "      <th>duration_ms</th>\n",
       "    </tr>\n",
       "    <tr>\n",
       "      <th>playlist_genre</th>\n",
       "      <th></th>\n",
       "    </tr>\n",
       "  </thead>\n",
       "  <tbody>\n",
       "    <tr>\n",
       "      <th>latin</th>\n",
       "      <td>216.863447</td>\n",
       "    </tr>\n",
       "    <tr>\n",
       "      <th>pop</th>\n",
       "      <td>217.768104</td>\n",
       "    </tr>\n",
       "    <tr>\n",
       "      <th>rap</th>\n",
       "      <td>214.163889</td>\n",
       "    </tr>\n",
       "  </tbody>\n",
       "</table>\n",
       "</div>"
      ],
      "text/plain": [
       "                duration_ms\n",
       "playlist_genre             \n",
       "latin            216.863447\n",
       "pop              217.768104\n",
       "rap              214.163889"
      ]
     },
     "execution_count": 27,
     "metadata": {},
     "output_type": "execute_result"
    }
   ],
   "source": [
    "data_pop_rap2.groupby('playlist_genre').mean()/1000 # duración en segundos"
   ]
  },
  {
   "cell_type": "code",
   "execution_count": 28,
   "metadata": {},
   "outputs": [
    {
     "data": {
      "text/html": [
       "<div>\n",
       "<style scoped>\n",
       "    .dataframe tbody tr th:only-of-type {\n",
       "        vertical-align: middle;\n",
       "    }\n",
       "\n",
       "    .dataframe tbody tr th {\n",
       "        vertical-align: top;\n",
       "    }\n",
       "\n",
       "    .dataframe thead th {\n",
       "        text-align: right;\n",
       "    }\n",
       "</style>\n",
       "<table border=\"1\" class=\"dataframe\">\n",
       "  <thead>\n",
       "    <tr style=\"text-align: right;\">\n",
       "      <th></th>\n",
       "      <th>duration_ms</th>\n",
       "    </tr>\n",
       "    <tr>\n",
       "      <th>playlist_genre</th>\n",
       "      <th></th>\n",
       "    </tr>\n",
       "  </thead>\n",
       "  <tbody>\n",
       "    <tr>\n",
       "      <th>latin</th>\n",
       "      <td>48.401258</td>\n",
       "    </tr>\n",
       "    <tr>\n",
       "      <th>pop</th>\n",
       "      <td>45.312946</td>\n",
       "    </tr>\n",
       "    <tr>\n",
       "      <th>rap</th>\n",
       "      <td>60.265287</td>\n",
       "    </tr>\n",
       "  </tbody>\n",
       "</table>\n",
       "</div>"
      ],
      "text/plain": [
       "                duration_ms\n",
       "playlist_genre             \n",
       "latin             48.401258\n",
       "pop               45.312946\n",
       "rap               60.265287"
      ]
     },
     "execution_count": 28,
     "metadata": {},
     "output_type": "execute_result"
    }
   ],
   "source": [
    "data_pop_rap2.groupby('playlist_genre').std()/1000"
   ]
  },
  {
   "cell_type": "markdown",
   "metadata": {},
   "source": [
    "Promedios muy parecidos... pero desvíos estandares no \"tan similares\".\n",
    "\n",
    "**¿Hay alguna manera de medirlo mas estandarizado?**"
   ]
  },
  {
   "cell_type": "markdown",
   "metadata": {},
   "source": [
    "Lectura recomendada del análisis del error en ML: [Conociendo el error | Libro Vivo de Ciencia de Datos](https://librovivodecienciadedatos.ai/desempe%C3%B1o-modelo.html#conociendo_el_error)"
   ]
  },
  {
   "cell_type": "markdown",
   "metadata": {},
   "source": [
    "## 4)Test de hipótesis"
   ]
  },
  {
   "cell_type": "markdown",
   "metadata": {},
   "source": [
    "#### Un poco de teoría:\n",
    "\n",
    "La prueba (test) **t-student**, se usa para determinar si los promedios entre dos muestras son realmente diferentes (como un juez imparcial).\n",
    "\n",
    "En la t-student comparamos 2 muestras de una población desconocida (no tenemos todos los temas). Las muestras son al azar e independientes.\n",
    "\n",
    "Si las muestras están relacionadas (ej mismo paciente con un medicamento), se usa: \"Paired Sample T-Test\". No tan común en ML."
   ]
  },
  {
   "cell_type": "code",
   "execution_count": 32,
   "metadata": {},
   "outputs": [],
   "source": [
    "d_pop=data_spotify.query(\"playlist_genre=='pop'\")['duration_ms'].rename('duration_pop')\n",
    "\n",
    "d_rap=data_spotify.query(\"playlist_genre=='rap'\")['duration_ms'].rename('duration_rap')"
   ]
  },
  {
   "cell_type": "code",
   "execution_count": 33,
   "metadata": {},
   "outputs": [
    {
     "data": {
      "image/png": "[encoded data removed]",
      "text/plain": [
       "<Figure size 432x288 with 1 Axes>"
      ]
     },
     "metadata": {
      "needs_background": "light"
     },
     "output_type": "display_data"
    }
   ],
   "source": [
    "import seaborn as sns\n",
    "import matplotlib.pyplot as plt\n",
    "\n",
    "sns.kdeplot(d_pop, shade=True)\n",
    "sns.kdeplot(d_rap, shade=True)\n",
    "\n",
    "p=plt.title(\"Duration ms\")"
   ]
  },
  {
   "cell_type": "markdown",
   "metadata": {},
   "source": [
    "- Hipótesis nula: µa = µb (el promedio de ambas muestras es igual)\n",
    "\n",
    "- Hipótesis alternativa: µa ≠ µb (el promedio de ambas muestras no es igual) \n",
    "\n",
    "\n",
    "Nivel de significancia: 0.05"
   ]
  },
  {
   "cell_type": "code",
   "execution_count": 34,
   "metadata": {},
   "outputs": [
    {
     "name": "stdout",
     "output_type": "stream",
     "text": [
      "p-value: 0.000325\n"
     ]
    }
   ],
   "source": [
    "from scipy import stats\n",
    "\n",
    "t_stat, p_value = stats.ttest_ind(d_pop, d_rap, equal_var = False)\n",
    "\n",
    "print(\"p-value: {0}\".format(round(p_value, 6)))"
   ]
  },
  {
   "cell_type": "markdown",
   "metadata": {},
   "source": [
    "Como el p-value de 0.000325 es menor que el nivel de significancia alpha=0.05, podemos rechazar la hipótesis nula y aceptar la hipótesis alternativa de que la diferencia de los promedios en ambas muestras no es 0."
   ]
  },
  {
   "cell_type": "markdown",
   "metadata": {},
   "source": [
    "Asumimos que la varianza en las muestras no es la misma: usevar='unequal'\n",
    "\n",
    "Regla: Si p-value < alpha → rechazo la hipótesis nula (rechazo que H0: la diferencia entre las medias es 0)"
   ]
  },
  {
   "cell_type": "code",
   "execution_count": null,
   "metadata": {},
   "outputs": [],
   "source": [
    "\n",
    "\n",
    "\n",
    "\n",
    "\n",
    "\n",
    "\n",
    "\n",
    "\n",
    "\n",
    "\n",
    "\n",
    "\n",
    "\n",
    "\n",
    "\n",
    "\n",
    "\n",
    "\n",
    "\n"
   ]
  }
 ],
 "metadata": {
  "kernelspec": {
   "display_name": "Python 3",
   "language": "python",
   "name": "python3"
  },
  "language_info": {
   "codemirror_mode": {
    "name": "ipython",
    "version": 3
   },
   "file_extension": ".py",
   "mimetype": "text/x-python",
   "name": "python",
   "nbconvert_exporter": "python",
   "pygments_lexer": "ipython3",
   "version": "3.7.3"
  }
 },
 "nbformat": 4,
 "nbformat_minor": 4
}
