{
 "cells": [
  {
   "cell_type": "markdown",
   "metadata": {},
   "source": [
    "# INTRODUCCION A ESTADISTICA"
   ]
  },
  {
   "cell_type": "markdown",
   "metadata": {},
   "source": [
    "**AGENDA**\n",
    "\n",
    "- ¿Que es la estadistica?\n",
    "- Muestras (SAMPLING)\n",
    "- Valor esperado\n",
    "- Varianza y desvio estandar\n",
    "- Dispersion\n",
    "- Distribucion normal\n",
    "- Asimetria\n",
    "- Curtosis\n",
    "- Probabilidad\n",
    "- Percentiles\n",
    "\n",
    "--- "
   ]
  },
  {
   "cell_type": "markdown",
   "metadata": {},
   "source": [
    "# Teoria\n",
    "\n",
    "## ¿Que es la estadistica?\n",
    "Rama de las matematicas que tiene dos areas:\n",
    "\n",
    "- **La estadistica Descriptiva**\n",
    "\n",
    "    Caracterizar los datos, entenderlos, presentarlos -> **Analisis exploratorio de los datos**\n",
    "    \n",
    "    \n",
    "- **La estadistica Inferencial**\n",
    "\n",
    "    A partir de una muestra, inferimos sobre la poblacion total -> **Modelos ML**\n",
    "    \n",
    "## Muestras\n",
    "Nos basamos en estos para inferir los totales.\n",
    "Tipos de muestras: Aleatorias (TR/TS) y Sesgaga ( Gender bias)\n",
    "\n",
    "## Valor esperado\n",
    "- Captura el centro de la distribucion\n",
    "- Promedio de muchas muestras independientes de dicha distribucion\n",
    "- Mientras mas datos mas precisos\n",
    "\n",
    "## Varianza, desvio estandar y dispersion\n",
    "Metricas de dispersion\n",
    "\n",
    "En promedio, cuanto se desvia cada del valor del promedio\n",
    "- desvio estandar: Nos permite saber cuanto se alejan del promedio (dispersion) y estan en la misma unidad de medida de la variable de analisis\n",
    "\n",
    "## Distribucion\n",
    "Funciones asociada con la probabiidad de que suceda un suceso\n",
    "\n",
    "- Distribuciones Discretas (Categoricas) - cantidad de peliculas vistas\n",
    "- Distribuciones Continuas (Numericas) - cantidad de minutos\n",
    "- Distribuciones Normal: nos permite conocer y poder sacar conclusiones mas rapido\n",
    "\n",
    "<img src=\"https://i.ibb.co/5BkcBg0/Selecci-n-161.png\" alt=\"Selecci-n-161\" border=\"0\">\n",
    "\n"
   ]
  },
  {
   "cell_type": "markdown",
   "metadata": {},
   "source": [
    "# Practica"
   ]
  },
  {
   "cell_type": "code",
   "execution_count": 1,
   "metadata": {},
   "outputs": [],
   "source": [
    "import pandas as pd"
   ]
  },
  {
   "cell_type": "code",
   "execution_count": 2,
   "metadata": {},
   "outputs": [],
   "source": [
    "data_spotify=pd.read_csv('https://raw.githubusercontent.com/rfordatascience/tidytuesday/master/data/2020/2020-01-21/spotify_songs.csv')"
   ]
  },
  {
   "cell_type": "markdown",
   "metadata": {},
   "source": [
    "### 1) Estadística descriptiva\n",
    "\n",
    "Video AE3"
   ]
  },
  {
   "cell_type": "code",
   "execution_count": 5,
   "metadata": {},
   "outputs": [
    {
     "name": "stdout",
     "output_type": "stream",
     "text": [
      "Collecting pandas-profiling\n",
      "  Downloading pandas_profiling-2.10.1-py2.py3-none-any.whl (240 kB)\n",
      "Requirement already satisfied: numpy>=1.16.0 in c:\\users\\skull\\anaconda3\\lib\\site-packages (from pandas-profiling) (1.19.2)\n",
      "Requirement already satisfied: ipywidgets>=7.5.1 in c:\\users\\skull\\anaconda3\\lib\\site-packages (from pandas-profiling) (7.5.1)\n",
      "Requirement already satisfied: tqdm>=4.48.2 in c:\\users\\skull\\anaconda3\\lib\\site-packages (from pandas-profiling) (4.50.2)\n",
      "Requirement already satisfied: attrs>=19.3.0 in c:\\users\\skull\\anaconda3\\lib\\site-packages (from pandas-profiling) (20.3.0)\n",
      "Collecting htmlmin>=0.1.12\n",
      "  Downloading htmlmin-0.1.12.tar.gz (19 kB)\n",
      "Collecting visions[type_image_path]==0.6.0\n",
      "  Downloading visions-0.6.0-py3-none-any.whl (75 kB)\n",
      "Requirement already satisfied: matplotlib>=3.2.0 in c:\\users\\skull\\anaconda3\\lib\\site-packages (from pandas-profiling) (3.3.2)\n",
      "Collecting missingno>=0.4.2\n",
      "  Downloading missingno-0.4.2-py3-none-any.whl (9.7 kB)\n",
      "Requirement already satisfied: scipy>=1.4.1 in c:\\users\\skull\\anaconda3\\lib\\site-packages (from pandas-profiling) (1.5.2)\n",
      "Collecting confuse>=1.0.0\n",
      "  Downloading confuse-1.4.0-py2.py3-none-any.whl (21 kB)\n",
      "Requirement already satisfied: seaborn>=0.10.1 in c:\\users\\skull\\anaconda3\\lib\\site-packages (from pandas-profiling) (0.11.0)\n",
      "Requirement already satisfied: jinja2>=2.11.1 in c:\\users\\skull\\anaconda3\\lib\\site-packages (from pandas-profiling) (2.11.2)\n",
      "Collecting phik>=0.10.0\n",
      "  Downloading phik-0.11.0.tar.gz (594 kB)\n",
      "Requirement already satisfied: joblib in c:\\users\\skull\\anaconda3\\lib\\site-packages (from pandas-profiling) (0.17.0)\n",
      "Collecting tangled-up-in-unicode>=0.0.6\n",
      "  Downloading tangled_up_in_unicode-0.0.6-py3-none-any.whl (3.1 MB)\n",
      "Requirement already satisfied: requests>=2.24.0 in c:\\users\\skull\\anaconda3\\lib\\site-packages (from pandas-profiling) (2.24.0)\n",
      "Requirement already satisfied: pandas!=1.0.0,!=1.0.1,!=1.0.2,!=1.1.0,>=0.25.3 in c:\\users\\skull\\anaconda3\\lib\\site-packages (from pandas-profiling) (1.1.3)\n",
      "Requirement already satisfied: ipython>=4.0.0; python_version >= \"3.3\" in c:\\users\\skull\\anaconda3\\lib\\site-packages (from ipywidgets>=7.5.1->pandas-profiling) (7.19.0)\n",
      "Requirement already satisfied: widgetsnbextension~=3.5.0 in c:\\users\\skull\\anaconda3\\lib\\site-packages (from ipywidgets>=7.5.1->pandas-profiling) (3.5.1)\n",
      "Requirement already satisfied: nbformat>=4.2.0 in c:\\users\\skull\\anaconda3\\lib\\site-packages (from ipywidgets>=7.5.1->pandas-profiling) (5.0.8)\n",
      "Requirement already satisfied: ipykernel>=4.5.1 in c:\\users\\skull\\anaconda3\\lib\\site-packages (from ipywidgets>=7.5.1->pandas-profiling) (5.3.4)\n",
      "Requirement already satisfied: traitlets>=4.3.1 in c:\\users\\skull\\anaconda3\\lib\\site-packages (from ipywidgets>=7.5.1->pandas-profiling) (5.0.5)\n",
      "Requirement already satisfied: networkx>=2.4 in c:\\users\\skull\\anaconda3\\lib\\site-packages (from visions[type_image_path]==0.6.0->pandas-profiling) (2.5)\n",
      "Collecting imagehash; extra == \"type_image_path\"\n",
      "  Downloading ImageHash-4.2.0-py2.py3-none-any.whl (295 kB)\n",
      "Requirement already satisfied: Pillow; extra == \"type_image_path\" in c:\\users\\skull\\anaconda3\\lib\\site-packages (from visions[type_image_path]==0.6.0->pandas-profiling) (8.0.1)\n",
      "Requirement already satisfied: certifi>=2020.06.20 in c:\\users\\skull\\anaconda3\\lib\\site-packages (from matplotlib>=3.2.0->pandas-profiling) (2020.6.20)\n",
      "Requirement already satisfied: python-dateutil>=2.1 in c:\\users\\skull\\anaconda3\\lib\\site-packages (from matplotlib>=3.2.0->pandas-profiling) (2.8.1)\n",
      "Requirement already satisfied: cycler>=0.10 in c:\\users\\skull\\anaconda3\\lib\\site-packages (from matplotlib>=3.2.0->pandas-profiling) (0.10.0)\n",
      "Requirement already satisfied: pyparsing!=2.0.4,!=2.1.2,!=2.1.6,>=2.0.3 in c:\\users\\skull\\anaconda3\\lib\\site-packages (from matplotlib>=3.2.0->pandas-profiling) (2.4.7)\n",
      "Requirement already satisfied: kiwisolver>=1.0.1 in c:\\users\\skull\\anaconda3\\lib\\site-packages (from matplotlib>=3.2.0->pandas-profiling) (1.3.0)\n",
      "Requirement already satisfied: pyyaml in c:\\users\\skull\\anaconda3\\lib\\site-packages (from confuse>=1.0.0->pandas-profiling) (5.3.1)\n",
      "Requirement already satisfied: MarkupSafe>=0.23 in c:\\users\\skull\\anaconda3\\lib\\site-packages (from jinja2>=2.11.1->pandas-profiling) (1.1.1)\n",
      "Requirement already satisfied: numba>=0.38.1 in c:\\users\\skull\\anaconda3\\lib\\site-packages (from phik>=0.10.0->pandas-profiling) (0.51.2)\n",
      "Requirement already satisfied: chardet<4,>=3.0.2 in c:\\users\\skull\\anaconda3\\lib\\site-packages (from requests>=2.24.0->pandas-profiling) (3.0.4)\n",
      "Requirement already satisfied: urllib3!=1.25.0,!=1.25.1,<1.26,>=1.21.1 in c:\\users\\skull\\anaconda3\\lib\\site-packages (from requests>=2.24.0->pandas-profiling) (1.25.11)\n",
      "Requirement already satisfied: idna<3,>=2.5 in c:\\users\\skull\\anaconda3\\lib\\site-packages (from requests>=2.24.0->pandas-profiling) (2.10)\n",
      "Requirement already satisfied: pytz>=2017.2 in c:\\users\\skull\\anaconda3\\lib\\site-packages (from pandas!=1.0.0,!=1.0.1,!=1.0.2,!=1.1.0,>=0.25.3->pandas-profiling) (2020.1)\n",
      "Requirement already satisfied: setuptools>=18.5 in c:\\users\\skull\\anaconda3\\lib\\site-packages (from ipython>=4.0.0; python_version >= \"3.3\"->ipywidgets>=7.5.1->pandas-profiling) (50.3.1.post20201107)\n",
      "Requirement already satisfied: pygments in c:\\users\\skull\\anaconda3\\lib\\site-packages (from ipython>=4.0.0; python_version >= \"3.3\"->ipywidgets>=7.5.1->pandas-profiling) (2.7.2)\n",
      "Requirement already satisfied: backcall in c:\\users\\skull\\anaconda3\\lib\\site-packages (from ipython>=4.0.0; python_version >= \"3.3\"->ipywidgets>=7.5.1->pandas-profiling) (0.2.0)\n",
      "Requirement already satisfied: prompt-toolkit!=3.0.0,!=3.0.1,<3.1.0,>=2.0.0 in c:\\users\\skull\\anaconda3\\lib\\site-packages (from ipython>=4.0.0; python_version >= \"3.3\"->ipywidgets>=7.5.1->pandas-profiling) (3.0.8)\n",
      "Requirement already satisfied: colorama; sys_platform == \"win32\" in c:\\users\\skull\\anaconda3\\lib\\site-packages (from ipython>=4.0.0; python_version >= \"3.3\"->ipywidgets>=7.5.1->pandas-profiling) (0.4.4)\n",
      "Requirement already satisfied: decorator in c:\\users\\skull\\anaconda3\\lib\\site-packages (from ipython>=4.0.0; python_version >= \"3.3\"->ipywidgets>=7.5.1->pandas-profiling) (4.4.2)\n",
      "Requirement already satisfied: pickleshare in c:\\users\\skull\\anaconda3\\lib\\site-packages (from ipython>=4.0.0; python_version >= \"3.3\"->ipywidgets>=7.5.1->pandas-profiling) (0.7.5)\n",
      "Requirement already satisfied: jedi>=0.10 in c:\\users\\skull\\anaconda3\\lib\\site-packages (from ipython>=4.0.0; python_version >= \"3.3\"->ipywidgets>=7.5.1->pandas-profiling) (0.17.1)\n",
      "Requirement already satisfied: notebook>=4.4.1 in c:\\users\\skull\\anaconda3\\lib\\site-packages (from widgetsnbextension~=3.5.0->ipywidgets>=7.5.1->pandas-profiling) (6.1.4)\n",
      "Requirement already satisfied: jsonschema!=2.5.0,>=2.4 in c:\\users\\skull\\anaconda3\\lib\\site-packages (from nbformat>=4.2.0->ipywidgets>=7.5.1->pandas-profiling) (3.2.0)\n",
      "Requirement already satisfied: ipython-genutils in c:\\users\\skull\\anaconda3\\lib\\site-packages (from nbformat>=4.2.0->ipywidgets>=7.5.1->pandas-profiling) (0.2.0)\n",
      "Requirement already satisfied: jupyter-core in c:\\users\\skull\\anaconda3\\lib\\site-packages (from nbformat>=4.2.0->ipywidgets>=7.5.1->pandas-profiling) (4.6.3)\n",
      "Requirement already satisfied: tornado>=4.2 in c:\\users\\skull\\anaconda3\\lib\\site-packages (from ipykernel>=4.5.1->ipywidgets>=7.5.1->pandas-profiling) (6.0.4)\n",
      "Requirement already satisfied: jupyter-client in c:\\users\\skull\\anaconda3\\lib\\site-packages (from ipykernel>=4.5.1->ipywidgets>=7.5.1->pandas-profiling) (6.1.7)\n",
      "Requirement already satisfied: six in c:\\users\\skull\\anaconda3\\lib\\site-packages (from imagehash; extra == \"type_image_path\"->visions[type_image_path]==0.6.0->pandas-profiling) (1.15.0)\n",
      "Requirement already satisfied: PyWavelets in c:\\users\\skull\\anaconda3\\lib\\site-packages (from imagehash; extra == \"type_image_path\"->visions[type_image_path]==0.6.0->pandas-profiling) (1.1.1)\n",
      "Requirement already satisfied: llvmlite<0.35,>=0.34.0.dev0 in c:\\users\\skull\\anaconda3\\lib\\site-packages (from numba>=0.38.1->phik>=0.10.0->pandas-profiling) (0.34.0)\n",
      "Requirement already satisfied: wcwidth in c:\\users\\skull\\anaconda3\\lib\\site-packages (from prompt-toolkit!=3.0.0,!=3.0.1,<3.1.0,>=2.0.0->ipython>=4.0.0; python_version >= \"3.3\"->ipywidgets>=7.5.1->pandas-profiling) (0.2.5)\n",
      "Requirement already satisfied: parso<0.8.0,>=0.7.0 in c:\\users\\skull\\anaconda3\\lib\\site-packages (from jedi>=0.10->ipython>=4.0.0; python_version >= \"3.3\"->ipywidgets>=7.5.1->pandas-profiling) (0.7.0)\n",
      "Requirement already satisfied: Send2Trash in c:\\users\\skull\\anaconda3\\lib\\site-packages (from notebook>=4.4.1->widgetsnbextension~=3.5.0->ipywidgets>=7.5.1->pandas-profiling) (1.5.0)\n",
      "Requirement already satisfied: terminado>=0.8.3 in c:\\users\\skull\\anaconda3\\lib\\site-packages (from notebook>=4.4.1->widgetsnbextension~=3.5.0->ipywidgets>=7.5.1->pandas-profiling) (0.9.1)\n",
      "Requirement already satisfied: pyzmq>=17 in c:\\users\\skull\\anaconda3\\lib\\site-packages (from notebook>=4.4.1->widgetsnbextension~=3.5.0->ipywidgets>=7.5.1->pandas-profiling) (19.0.2)\n",
      "Requirement already satisfied: nbconvert in c:\\users\\skull\\anaconda3\\lib\\site-packages (from notebook>=4.4.1->widgetsnbextension~=3.5.0->ipywidgets>=7.5.1->pandas-profiling) (6.0.7)\n",
      "Requirement already satisfied: argon2-cffi in c:\\users\\skull\\anaconda3\\lib\\site-packages (from notebook>=4.4.1->widgetsnbextension~=3.5.0->ipywidgets>=7.5.1->pandas-profiling) (20.1.0)\n",
      "Requirement already satisfied: prometheus-client in c:\\users\\skull\\anaconda3\\lib\\site-packages (from notebook>=4.4.1->widgetsnbextension~=3.5.0->ipywidgets>=7.5.1->pandas-profiling) (0.8.0)\n",
      "Requirement already satisfied: pyrsistent>=0.14.0 in c:\\users\\skull\\anaconda3\\lib\\site-packages (from jsonschema!=2.5.0,>=2.4->nbformat>=4.2.0->ipywidgets>=7.5.1->pandas-profiling) (0.17.3)\n",
      "Requirement already satisfied: pywin32>=1.0; sys_platform == \"win32\" in c:\\users\\skull\\anaconda3\\lib\\site-packages (from jupyter-core->nbformat>=4.2.0->ipywidgets>=7.5.1->pandas-profiling) (227)\n",
      "Requirement already satisfied: pywinpty>=0.5 in c:\\users\\skull\\anaconda3\\lib\\site-packages (from terminado>=0.8.3->notebook>=4.4.1->widgetsnbextension~=3.5.0->ipywidgets>=7.5.1->pandas-profiling) (0.5.7)\n",
      "Requirement already satisfied: mistune<2,>=0.8.1 in c:\\users\\skull\\anaconda3\\lib\\site-packages (from nbconvert->notebook>=4.4.1->widgetsnbextension~=3.5.0->ipywidgets>=7.5.1->pandas-profiling) (0.8.4)\n",
      "Requirement already satisfied: bleach in c:\\users\\skull\\anaconda3\\lib\\site-packages (from nbconvert->notebook>=4.4.1->widgetsnbextension~=3.5.0->ipywidgets>=7.5.1->pandas-profiling) (3.2.1)\n",
      "Requirement already satisfied: pandocfilters>=1.4.1 in c:\\users\\skull\\anaconda3\\lib\\site-packages (from nbconvert->notebook>=4.4.1->widgetsnbextension~=3.5.0->ipywidgets>=7.5.1->pandas-profiling) (1.4.3)\n",
      "Requirement already satisfied: defusedxml in c:\\users\\skull\\anaconda3\\lib\\site-packages (from nbconvert->notebook>=4.4.1->widgetsnbextension~=3.5.0->ipywidgets>=7.5.1->pandas-profiling) (0.6.0)\n",
      "Requirement already satisfied: nbclient<0.6.0,>=0.5.0 in c:\\users\\skull\\anaconda3\\lib\\site-packages (from nbconvert->notebook>=4.4.1->widgetsnbextension~=3.5.0->ipywidgets>=7.5.1->pandas-profiling) (0.5.1)\n",
      "Requirement already satisfied: entrypoints>=0.2.2 in c:\\users\\skull\\anaconda3\\lib\\site-packages (from nbconvert->notebook>=4.4.1->widgetsnbextension~=3.5.0->ipywidgets>=7.5.1->pandas-profiling) (0.3)\n",
      "Requirement already satisfied: testpath in c:\\users\\skull\\anaconda3\\lib\\site-packages (from nbconvert->notebook>=4.4.1->widgetsnbextension~=3.5.0->ipywidgets>=7.5.1->pandas-profiling) (0.4.4)\n",
      "Requirement already satisfied: jupyterlab-pygments in c:\\users\\skull\\anaconda3\\lib\\site-packages (from nbconvert->notebook>=4.4.1->widgetsnbextension~=3.5.0->ipywidgets>=7.5.1->pandas-profiling) (0.1.2)\n",
      "Requirement already satisfied: cffi>=1.0.0 in c:\\users\\skull\\anaconda3\\lib\\site-packages (from argon2-cffi->notebook>=4.4.1->widgetsnbextension~=3.5.0->ipywidgets>=7.5.1->pandas-profiling) (1.14.3)\n",
      "Requirement already satisfied: webencodings in c:\\users\\skull\\anaconda3\\lib\\site-packages (from bleach->nbconvert->notebook>=4.4.1->widgetsnbextension~=3.5.0->ipywidgets>=7.5.1->pandas-profiling) (0.5.1)\n",
      "Requirement already satisfied: packaging in c:\\users\\skull\\anaconda3\\lib\\site-packages (from bleach->nbconvert->notebook>=4.4.1->widgetsnbextension~=3.5.0->ipywidgets>=7.5.1->pandas-profiling) (20.4)\n",
      "Requirement already satisfied: async-generator in c:\\users\\skull\\anaconda3\\lib\\site-packages (from nbclient<0.6.0,>=0.5.0->nbconvert->notebook>=4.4.1->widgetsnbextension~=3.5.0->ipywidgets>=7.5.1->pandas-profiling) (1.10)\n",
      "Requirement already satisfied: nest-asyncio in c:\\users\\skull\\anaconda3\\lib\\site-packages (from nbclient<0.6.0,>=0.5.0->nbconvert->notebook>=4.4.1->widgetsnbextension~=3.5.0->ipywidgets>=7.5.1->pandas-profiling) (1.4.2)\n",
      "Requirement already satisfied: pycparser in c:\\users\\skull\\anaconda3\\lib\\site-packages (from cffi>=1.0.0->argon2-cffi->notebook>=4.4.1->widgetsnbextension~=3.5.0->ipywidgets>=7.5.1->pandas-profiling) (2.20)\n",
      "Building wheels for collected packages: htmlmin, phik\n",
      "  Building wheel for htmlmin (setup.py): started\n",
      "  Building wheel for htmlmin (setup.py): finished with status 'done'\n",
      "  Created wheel for htmlmin: filename=htmlmin-0.1.12-py3-none-any.whl size=27091 sha256=76c7d53d17e5617b53ae7c98b7cc48672741312a196c53b24fb6748412a57bfa\n",
      "  Stored in directory: c:\\users\\skull\\appdata\\local\\pip\\cache\\wheels\\23\\14\\6e\\4be5bfeeb027f4939a01764b48edd5996acf574b0913fe5243\n",
      "  Building wheel for phik (setup.py): started\n",
      "  Building wheel for phik (setup.py): finished with status 'done'\n",
      "  Created wheel for phik: filename=phik-0.11.0-py3-none-any.whl size=599743 sha256=81c921b33390bc265c5bb3ef785117dbe133727de06edfe1bab5ca78be419c74\n",
      "  Stored in directory: c:\\users\\skull\\appdata\\local\\pip\\cache\\wheels\\15\\cd\\d8\\d1a2da5bf20e6411649edb390d93887820168898a3659fd48d\n",
      "Successfully built htmlmin phik\n",
      "Installing collected packages: htmlmin, tangled-up-in-unicode, imagehash, visions, missingno, confuse, phik, pandas-profiling\n",
      "Successfully installed confuse-1.4.0 htmlmin-0.1.12 imagehash-4.2.0 missingno-0.4.2 pandas-profiling-2.10.1 phik-0.11.0 tangled-up-in-unicode-0.0.6 visions-0.6.0\n",
      "Note: you may need to restart the kernel to use updated packages.\n"
     ]
    }
   ],
   "source": [
    "pip install pandas-profiling"
   ]
  },
  {
   "cell_type": "code",
   "execution_count": 6,
   "metadata": {},
   "outputs": [
    {
     "name": "stdout",
     "output_type": "stream",
     "text": [
      "Collecting funpymodeling\n",
      "  Downloading funpymodeling-0.1.7-py3-none-any.whl (6.4 kB)\n",
      "Requirement already satisfied: pandas<2.0.0,>=1.0.5 in c:\\users\\skull\\anaconda3\\lib\\site-packages (from funpymodeling) (1.1.3)\n",
      "Collecting sklearn<0.1,>=0.0\n",
      "  Downloading sklearn-0.0.tar.gz (1.1 kB)\n",
      "Requirement already satisfied: matplotlib<4.0.0,>=3.2.2 in c:\\users\\skull\\anaconda3\\lib\\site-packages (from funpymodeling) (3.3.2)\n",
      "Requirement already satisfied: numpy<2.0.0,>=1.18.5 in c:\\users\\skull\\anaconda3\\lib\\site-packages (from funpymodeling) (1.19.2)\n",
      "Collecting seaborn<0.11.0,>=0.10.1\n",
      "  Downloading seaborn-0.10.1-py3-none-any.whl (215 kB)\n",
      "Requirement already satisfied: python-dateutil>=2.7.3 in c:\\users\\skull\\anaconda3\\lib\\site-packages (from pandas<2.0.0,>=1.0.5->funpymodeling) (2.8.1)\n",
      "Requirement already satisfied: pytz>=2017.2 in c:\\users\\skull\\anaconda3\\lib\\site-packages (from pandas<2.0.0,>=1.0.5->funpymodeling) (2020.1)\n",
      "Requirement already satisfied: scikit-learn in c:\\users\\skull\\anaconda3\\lib\\site-packages (from sklearn<0.1,>=0.0->funpymodeling) (0.23.2)\n",
      "Requirement already satisfied: pyparsing!=2.0.4,!=2.1.2,!=2.1.6,>=2.0.3 in c:\\users\\skull\\anaconda3\\lib\\site-packages (from matplotlib<4.0.0,>=3.2.2->funpymodeling) (2.4.7)\n",
      "Requirement already satisfied: certifi>=2020.06.20 in c:\\users\\skull\\anaconda3\\lib\\site-packages (from matplotlib<4.0.0,>=3.2.2->funpymodeling) (2020.6.20)\n",
      "Requirement already satisfied: pillow>=6.2.0 in c:\\users\\skull\\anaconda3\\lib\\site-packages (from matplotlib<4.0.0,>=3.2.2->funpymodeling) (8.0.1)\n",
      "Requirement already satisfied: kiwisolver>=1.0.1 in c:\\users\\skull\\anaconda3\\lib\\site-packages (from matplotlib<4.0.0,>=3.2.2->funpymodeling) (1.3.0)\n",
      "Requirement already satisfied: cycler>=0.10 in c:\\users\\skull\\anaconda3\\lib\\site-packages (from matplotlib<4.0.0,>=3.2.2->funpymodeling) (0.10.0)\n",
      "Requirement already satisfied: scipy>=1.0.1 in c:\\users\\skull\\anaconda3\\lib\\site-packages (from seaborn<0.11.0,>=0.10.1->funpymodeling) (1.5.2)\n",
      "Requirement already satisfied: six>=1.5 in c:\\users\\skull\\anaconda3\\lib\\site-packages (from python-dateutil>=2.7.3->pandas<2.0.0,>=1.0.5->funpymodeling) (1.15.0)\n",
      "Requirement already satisfied: joblib>=0.11 in c:\\users\\skull\\anaconda3\\lib\\site-packages (from scikit-learn->sklearn<0.1,>=0.0->funpymodeling) (0.17.0)\n",
      "Requirement already satisfied: threadpoolctl>=2.0.0 in c:\\users\\skull\\anaconda3\\lib\\site-packages (from scikit-learn->sklearn<0.1,>=0.0->funpymodeling) (2.1.0)\n",
      "Building wheels for collected packages: sklearn\n",
      "  Building wheel for sklearn (setup.py): startedNote: you may need to restart the kernel to use updated packages.\n",
      "\n",
      "  Building wheel for sklearn (setup.py): finished with status 'done'\n",
      "  Created wheel for sklearn: filename=sklearn-0.0-py2.py3-none-any.whl size=1321 sha256=0cd6f8b0bd74dd2046bd615ffa604ebaa9cb5be0f3f75460e9fee84c65e111bf\n",
      "  Stored in directory: c:\\users\\skull\\appdata\\local\\pip\\cache\\wheels\\22\\0b\\40\\fd3f795caaa1fb4c6cb738bc1f56100be1e57da95849bfc897\n",
      "Successfully built sklearn\n",
      "Installing collected packages: sklearn, seaborn, funpymodeling\n",
      "  Attempting uninstall: seaborn\n",
      "    Found existing installation: seaborn 0.11.0\n",
      "    Uninstalling seaborn-0.11.0:\n",
      "      Successfully uninstalled seaborn-0.11.0\n",
      "Successfully installed funpymodeling-0.1.7 seaborn-0.10.1 sklearn-0.0\n"
     ]
    }
   ],
   "source": [
    "pip install funpymodeling"
   ]
  },
  {
   "cell_type": "code",
   "execution_count": 7,
   "metadata": {},
   "outputs": [],
   "source": [
    "from pandas_profiling import ProfileReport\n",
    "\n",
    "# describir los datos\n",
    "# funpymodeling LIBRERIA DE R \n",
    "from funpymodeling.exploratory import status, profiling_num, freq_tbl"
   ]
  },
  {
   "cell_type": "markdown",
   "metadata": {},
   "source": [
    "[Video intro a funpymodeling](https://www.youtube.com/watch?v=1wwQ9mWxrVE)"
   ]
  },
  {
   "cell_type": "code",
   "execution_count": 8,
   "metadata": {},
   "outputs": [
    {
     "data": {
      "text/html": [
       "<div>\n",
       "<style scoped>\n",
       "    .dataframe tbody tr th:only-of-type {\n",
       "        vertical-align: middle;\n",
       "    }\n",
       "\n",
       "    .dataframe tbody tr th {\n",
       "        vertical-align: top;\n",
       "    }\n",
       "\n",
       "    .dataframe thead th {\n",
       "        text-align: right;\n",
       "    }\n",
       "</style>\n",
       "<table border=\"1\" class=\"dataframe\">\n",
       "  <thead>\n",
       "    <tr style=\"text-align: right;\">\n",
       "      <th></th>\n",
       "      <th>variable</th>\n",
       "      <th>q_nan</th>\n",
       "      <th>p_nan</th>\n",
       "      <th>q_zeros</th>\n",
       "      <th>p_zeros</th>\n",
       "      <th>unique</th>\n",
       "      <th>type</th>\n",
       "    </tr>\n",
       "  </thead>\n",
       "  <tbody>\n",
       "    <tr>\n",
       "      <th>0</th>\n",
       "      <td>track_id</td>\n",
       "      <td>0</td>\n",
       "      <td>0.000000</td>\n",
       "      <td>0</td>\n",
       "      <td>0.000000</td>\n",
       "      <td>28356</td>\n",
       "      <td>object</td>\n",
       "    </tr>\n",
       "    <tr>\n",
       "      <th>1</th>\n",
       "      <td>track_name</td>\n",
       "      <td>5</td>\n",
       "      <td>0.000152</td>\n",
       "      <td>0</td>\n",
       "      <td>0.000000</td>\n",
       "      <td>23449</td>\n",
       "      <td>object</td>\n",
       "    </tr>\n",
       "    <tr>\n",
       "      <th>2</th>\n",
       "      <td>track_artist</td>\n",
       "      <td>5</td>\n",
       "      <td>0.000152</td>\n",
       "      <td>0</td>\n",
       "      <td>0.000000</td>\n",
       "      <td>10692</td>\n",
       "      <td>object</td>\n",
       "    </tr>\n",
       "    <tr>\n",
       "      <th>3</th>\n",
       "      <td>track_popularity</td>\n",
       "      <td>0</td>\n",
       "      <td>0.000000</td>\n",
       "      <td>2703</td>\n",
       "      <td>0.082326</td>\n",
       "      <td>101</td>\n",
       "      <td>int64</td>\n",
       "    </tr>\n",
       "    <tr>\n",
       "      <th>4</th>\n",
       "      <td>track_album_id</td>\n",
       "      <td>0</td>\n",
       "      <td>0.000000</td>\n",
       "      <td>0</td>\n",
       "      <td>0.000000</td>\n",
       "      <td>22545</td>\n",
       "      <td>object</td>\n",
       "    </tr>\n",
       "    <tr>\n",
       "      <th>5</th>\n",
       "      <td>track_album_name</td>\n",
       "      <td>5</td>\n",
       "      <td>0.000152</td>\n",
       "      <td>0</td>\n",
       "      <td>0.000000</td>\n",
       "      <td>19743</td>\n",
       "      <td>object</td>\n",
       "    </tr>\n",
       "    <tr>\n",
       "      <th>6</th>\n",
       "      <td>track_album_release_date</td>\n",
       "      <td>0</td>\n",
       "      <td>0.000000</td>\n",
       "      <td>0</td>\n",
       "      <td>0.000000</td>\n",
       "      <td>4530</td>\n",
       "      <td>object</td>\n",
       "    </tr>\n",
       "    <tr>\n",
       "      <th>7</th>\n",
       "      <td>playlist_name</td>\n",
       "      <td>0</td>\n",
       "      <td>0.000000</td>\n",
       "      <td>0</td>\n",
       "      <td>0.000000</td>\n",
       "      <td>449</td>\n",
       "      <td>object</td>\n",
       "    </tr>\n",
       "    <tr>\n",
       "      <th>8</th>\n",
       "      <td>playlist_id</td>\n",
       "      <td>0</td>\n",
       "      <td>0.000000</td>\n",
       "      <td>0</td>\n",
       "      <td>0.000000</td>\n",
       "      <td>471</td>\n",
       "      <td>object</td>\n",
       "    </tr>\n",
       "    <tr>\n",
       "      <th>9</th>\n",
       "      <td>playlist_genre</td>\n",
       "      <td>0</td>\n",
       "      <td>0.000000</td>\n",
       "      <td>0</td>\n",
       "      <td>0.000000</td>\n",
       "      <td>6</td>\n",
       "      <td>object</td>\n",
       "    </tr>\n",
       "    <tr>\n",
       "      <th>10</th>\n",
       "      <td>playlist_subgenre</td>\n",
       "      <td>0</td>\n",
       "      <td>0.000000</td>\n",
       "      <td>0</td>\n",
       "      <td>0.000000</td>\n",
       "      <td>24</td>\n",
       "      <td>object</td>\n",
       "    </tr>\n",
       "    <tr>\n",
       "      <th>11</th>\n",
       "      <td>danceability</td>\n",
       "      <td>0</td>\n",
       "      <td>0.000000</td>\n",
       "      <td>1</td>\n",
       "      <td>0.000030</td>\n",
       "      <td>822</td>\n",
       "      <td>float64</td>\n",
       "    </tr>\n",
       "    <tr>\n",
       "      <th>12</th>\n",
       "      <td>energy</td>\n",
       "      <td>0</td>\n",
       "      <td>0.000000</td>\n",
       "      <td>0</td>\n",
       "      <td>0.000000</td>\n",
       "      <td>952</td>\n",
       "      <td>float64</td>\n",
       "    </tr>\n",
       "    <tr>\n",
       "      <th>13</th>\n",
       "      <td>key</td>\n",
       "      <td>0</td>\n",
       "      <td>0.000000</td>\n",
       "      <td>3454</td>\n",
       "      <td>0.105199</td>\n",
       "      <td>12</td>\n",
       "      <td>int64</td>\n",
       "    </tr>\n",
       "    <tr>\n",
       "      <th>14</th>\n",
       "      <td>loudness</td>\n",
       "      <td>0</td>\n",
       "      <td>0.000000</td>\n",
       "      <td>0</td>\n",
       "      <td>0.000000</td>\n",
       "      <td>10222</td>\n",
       "      <td>float64</td>\n",
       "    </tr>\n",
       "    <tr>\n",
       "      <th>15</th>\n",
       "      <td>mode</td>\n",
       "      <td>0</td>\n",
       "      <td>0.000000</td>\n",
       "      <td>14259</td>\n",
       "      <td>0.434289</td>\n",
       "      <td>2</td>\n",
       "      <td>int64</td>\n",
       "    </tr>\n",
       "    <tr>\n",
       "      <th>16</th>\n",
       "      <td>speechiness</td>\n",
       "      <td>0</td>\n",
       "      <td>0.000000</td>\n",
       "      <td>1</td>\n",
       "      <td>0.000030</td>\n",
       "      <td>1270</td>\n",
       "      <td>float64</td>\n",
       "    </tr>\n",
       "    <tr>\n",
       "      <th>17</th>\n",
       "      <td>acousticness</td>\n",
       "      <td>0</td>\n",
       "      <td>0.000000</td>\n",
       "      <td>1</td>\n",
       "      <td>0.000030</td>\n",
       "      <td>3731</td>\n",
       "      <td>float64</td>\n",
       "    </tr>\n",
       "    <tr>\n",
       "      <th>18</th>\n",
       "      <td>instrumentalness</td>\n",
       "      <td>0</td>\n",
       "      <td>0.000000</td>\n",
       "      <td>12089</td>\n",
       "      <td>0.368197</td>\n",
       "      <td>4729</td>\n",
       "      <td>float64</td>\n",
       "    </tr>\n",
       "    <tr>\n",
       "      <th>19</th>\n",
       "      <td>liveness</td>\n",
       "      <td>0</td>\n",
       "      <td>0.000000</td>\n",
       "      <td>1</td>\n",
       "      <td>0.000030</td>\n",
       "      <td>1624</td>\n",
       "      <td>float64</td>\n",
       "    </tr>\n",
       "    <tr>\n",
       "      <th>20</th>\n",
       "      <td>valence</td>\n",
       "      <td>0</td>\n",
       "      <td>0.000000</td>\n",
       "      <td>1</td>\n",
       "      <td>0.000030</td>\n",
       "      <td>1362</td>\n",
       "      <td>float64</td>\n",
       "    </tr>\n",
       "    <tr>\n",
       "      <th>21</th>\n",
       "      <td>tempo</td>\n",
       "      <td>0</td>\n",
       "      <td>0.000000</td>\n",
       "      <td>1</td>\n",
       "      <td>0.000030</td>\n",
       "      <td>17684</td>\n",
       "      <td>float64</td>\n",
       "    </tr>\n",
       "    <tr>\n",
       "      <th>22</th>\n",
       "      <td>duration_ms</td>\n",
       "      <td>0</td>\n",
       "      <td>0.000000</td>\n",
       "      <td>0</td>\n",
       "      <td>0.000000</td>\n",
       "      <td>19785</td>\n",
       "      <td>int64</td>\n",
       "    </tr>\n",
       "  </tbody>\n",
       "</table>\n",
       "</div>"
      ],
      "text/plain": [
       "                    variable  q_nan     p_nan  q_zeros   p_zeros  unique  \\\n",
       "0                   track_id      0  0.000000        0  0.000000   28356   \n",
       "1                 track_name      5  0.000152        0  0.000000   23449   \n",
       "2               track_artist      5  0.000152        0  0.000000   10692   \n",
       "3           track_popularity      0  0.000000     2703  0.082326     101   \n",
       "4             track_album_id      0  0.000000        0  0.000000   22545   \n",
       "5           track_album_name      5  0.000152        0  0.000000   19743   \n",
       "6   track_album_release_date      0  0.000000        0  0.000000    4530   \n",
       "7              playlist_name      0  0.000000        0  0.000000     449   \n",
       "8                playlist_id      0  0.000000        0  0.000000     471   \n",
       "9             playlist_genre      0  0.000000        0  0.000000       6   \n",
       "10         playlist_subgenre      0  0.000000        0  0.000000      24   \n",
       "11              danceability      0  0.000000        1  0.000030     822   \n",
       "12                    energy      0  0.000000        0  0.000000     952   \n",
       "13                       key      0  0.000000     3454  0.105199      12   \n",
       "14                  loudness      0  0.000000        0  0.000000   10222   \n",
       "15                      mode      0  0.000000    14259  0.434289       2   \n",
       "16               speechiness      0  0.000000        1  0.000030    1270   \n",
       "17              acousticness      0  0.000000        1  0.000030    3731   \n",
       "18          instrumentalness      0  0.000000    12089  0.368197    4729   \n",
       "19                  liveness      0  0.000000        1  0.000030    1624   \n",
       "20                   valence      0  0.000000        1  0.000030    1362   \n",
       "21                     tempo      0  0.000000        1  0.000030   17684   \n",
       "22               duration_ms      0  0.000000        0  0.000000   19785   \n",
       "\n",
       "       type  \n",
       "0    object  \n",
       "1    object  \n",
       "2    object  \n",
       "3     int64  \n",
       "4    object  \n",
       "5    object  \n",
       "6    object  \n",
       "7    object  \n",
       "8    object  \n",
       "9    object  \n",
       "10   object  \n",
       "11  float64  \n",
       "12  float64  \n",
       "13    int64  \n",
       "14  float64  \n",
       "15    int64  \n",
       "16  float64  \n",
       "17  float64  \n",
       "18  float64  \n",
       "19  float64  \n",
       "20  float64  \n",
       "21  float64  \n",
       "22    int64  "
      ]
     },
     "execution_count": 8,
     "metadata": {},
     "output_type": "execute_result"
    }
   ],
   "source": [
    "status(data_spotify)"
   ]
  },
  {
   "cell_type": "code",
   "execution_count": 10,
   "metadata": {},
   "outputs": [
    {
     "data": {
      "text/html": [
       "<div>\n",
       "<style scoped>\n",
       "    .dataframe tbody tr th:only-of-type {\n",
       "        vertical-align: middle;\n",
       "    }\n",
       "\n",
       "    .dataframe tbody tr th {\n",
       "        vertical-align: top;\n",
       "    }\n",
       "\n",
       "    .dataframe thead th {\n",
       "        text-align: right;\n",
       "    }\n",
       "</style>\n",
       "<table border=\"1\" class=\"dataframe\">\n",
       "  <thead>\n",
       "    <tr style=\"text-align: right;\">\n",
       "      <th></th>\n",
       "      <th>playlist_genre</th>\n",
       "      <th>frequency</th>\n",
       "      <th>percentage</th>\n",
       "      <th>cumulative_perc</th>\n",
       "    </tr>\n",
       "  </thead>\n",
       "  <tbody>\n",
       "    <tr>\n",
       "      <th>0</th>\n",
       "      <td>edm</td>\n",
       "      <td>6043</td>\n",
       "      <td>0.184053</td>\n",
       "      <td>0.184053</td>\n",
       "    </tr>\n",
       "    <tr>\n",
       "      <th>1</th>\n",
       "      <td>rap</td>\n",
       "      <td>5746</td>\n",
       "      <td>0.175007</td>\n",
       "      <td>0.359059</td>\n",
       "    </tr>\n",
       "    <tr>\n",
       "      <th>2</th>\n",
       "      <td>pop</td>\n",
       "      <td>5507</td>\n",
       "      <td>0.167728</td>\n",
       "      <td>0.526787</td>\n",
       "    </tr>\n",
       "    <tr>\n",
       "      <th>3</th>\n",
       "      <td>r&amp;b</td>\n",
       "      <td>5431</td>\n",
       "      <td>0.165413</td>\n",
       "      <td>0.692200</td>\n",
       "    </tr>\n",
       "    <tr>\n",
       "      <th>4</th>\n",
       "      <td>latin</td>\n",
       "      <td>5155</td>\n",
       "      <td>0.157007</td>\n",
       "      <td>0.849207</td>\n",
       "    </tr>\n",
       "    <tr>\n",
       "      <th>5</th>\n",
       "      <td>rock</td>\n",
       "      <td>4951</td>\n",
       "      <td>0.150793</td>\n",
       "      <td>1.000000</td>\n",
       "    </tr>\n",
       "  </tbody>\n",
       "</table>\n",
       "</div>"
      ],
      "text/plain": [
       "  playlist_genre  frequency  percentage  cumulative_perc\n",
       "0            edm       6043    0.184053         0.184053\n",
       "1            rap       5746    0.175007         0.359059\n",
       "2            pop       5507    0.167728         0.526787\n",
       "3            r&b       5431    0.165413         0.692200\n",
       "4          latin       5155    0.157007         0.849207\n",
       "5           rock       4951    0.150793         1.000000"
      ]
     },
     "execution_count": 10,
     "metadata": {},
     "output_type": "execute_result"
    }
   ],
   "source": [
    "freq_tbl(data_spotify.playlist_genre) # Analisis de frecuencia"
   ]
  },
  {
   "cell_type": "markdown",
   "metadata": {},
   "source": [
    "Comparemos las popularidades! ¿Cuales son los géneros más populares?"
   ]
  },
  {
   "cell_type": "code",
   "execution_count": 11,
   "metadata": {},
   "outputs": [
    {
     "data": {
      "text/plain": [
       "playlist_genre\n",
       "pop      47.744870\n",
       "latin    47.026576\n",
       "rap      43.215454\n",
       "rock     41.728338\n",
       "r&b      41.223532\n",
       "edm      34.833526\n",
       "Name: track_popularity, dtype: float64"
      ]
     },
     "execution_count": 11,
     "metadata": {},
     "output_type": "execute_result"
    }
   ],
   "source": [
    "data_spotify.groupby('playlist_genre')['track_popularity'].mean().sort_values(ascending=False)"
   ]
  },
  {
   "cell_type": "markdown",
   "metadata": {},
   "source": [
    "¿Cuáles son los 5 temas más populares?"
   ]
  },
  {
   "cell_type": "code",
   "execution_count": 12,
   "metadata": {},
   "outputs": [
    {
     "data": {
      "text/html": [
       "<div>\n",
       "<style scoped>\n",
       "    .dataframe tbody tr th:only-of-type {\n",
       "        vertical-align: middle;\n",
       "    }\n",
       "\n",
       "    .dataframe tbody tr th {\n",
       "        vertical-align: top;\n",
       "    }\n",
       "\n",
       "    .dataframe thead th {\n",
       "        text-align: right;\n",
       "    }\n",
       "</style>\n",
       "<table border=\"1\" class=\"dataframe\">\n",
       "  <thead>\n",
       "    <tr style=\"text-align: right;\">\n",
       "      <th></th>\n",
       "      <th>track_id</th>\n",
       "      <th>track_name</th>\n",
       "      <th>track_artist</th>\n",
       "      <th>track_popularity</th>\n",
       "      <th>track_album_id</th>\n",
       "      <th>track_album_name</th>\n",
       "      <th>track_album_release_date</th>\n",
       "      <th>playlist_name</th>\n",
       "      <th>playlist_id</th>\n",
       "      <th>playlist_genre</th>\n",
       "      <th>...</th>\n",
       "      <th>key</th>\n",
       "      <th>loudness</th>\n",
       "      <th>mode</th>\n",
       "      <th>speechiness</th>\n",
       "      <th>acousticness</th>\n",
       "      <th>instrumentalness</th>\n",
       "      <th>liveness</th>\n",
       "      <th>valence</th>\n",
       "      <th>tempo</th>\n",
       "      <th>duration_ms</th>\n",
       "    </tr>\n",
       "  </thead>\n",
       "  <tbody>\n",
       "    <tr>\n",
       "      <th>20091</th>\n",
       "      <td>2XU0oxnq2qxCpomAAuJY8K</td>\n",
       "      <td>Dance Monkey</td>\n",
       "      <td>Tones and I</td>\n",
       "      <td>100</td>\n",
       "      <td>0UywfDKYlyiu1b38DRrzYD</td>\n",
       "      <td>Dance Monkey (Stripped Back) / Dance Monkey</td>\n",
       "      <td>2019-10-17</td>\n",
       "      <td>Global Top 50 | 2020 Hits</td>\n",
       "      <td>1KNl4AYfgZtOVm9KHkhPTF</td>\n",
       "      <td>latin</td>\n",
       "      <td>...</td>\n",
       "      <td>6</td>\n",
       "      <td>-6.400</td>\n",
       "      <td>0</td>\n",
       "      <td>0.0924</td>\n",
       "      <td>0.6920</td>\n",
       "      <td>0.000104</td>\n",
       "      <td>0.149</td>\n",
       "      <td>0.513</td>\n",
       "      <td>98.027</td>\n",
       "      <td>209438</td>\n",
       "    </tr>\n",
       "    <tr>\n",
       "      <th>1551</th>\n",
       "      <td>2XU0oxnq2qxCpomAAuJY8K</td>\n",
       "      <td>Dance Monkey</td>\n",
       "      <td>Tones and I</td>\n",
       "      <td>100</td>\n",
       "      <td>0UywfDKYlyiu1b38DRrzYD</td>\n",
       "      <td>Dance Monkey (Stripped Back) / Dance Monkey</td>\n",
       "      <td>2019-10-17</td>\n",
       "      <td>post-teen alternative, indie, pop (large variety)</td>\n",
       "      <td>1y42gwI5cuwjBslPyQNfqb</td>\n",
       "      <td>pop</td>\n",
       "      <td>...</td>\n",
       "      <td>6</td>\n",
       "      <td>-6.400</td>\n",
       "      <td>0</td>\n",
       "      <td>0.0924</td>\n",
       "      <td>0.6920</td>\n",
       "      <td>0.000104</td>\n",
       "      <td>0.149</td>\n",
       "      <td>0.513</td>\n",
       "      <td>98.027</td>\n",
       "      <td>209438</td>\n",
       "    </tr>\n",
       "    <tr>\n",
       "      <th>30202</th>\n",
       "      <td>696DnlkuDOXcMAnKlTgXXK</td>\n",
       "      <td>ROXANNE</td>\n",
       "      <td>Arizona Zervas</td>\n",
       "      <td>99</td>\n",
       "      <td>6HJDrXs0hpebaRFKA1sF90</td>\n",
       "      <td>ROXANNE</td>\n",
       "      <td>2019-10-10</td>\n",
       "      <td>Charts 2020 🔥Top 2020🔥Hits 2020🔥Summer 2020🔥Po...</td>\n",
       "      <td>3xMQTDLOIGvj3lWH5e5x6F</td>\n",
       "      <td>edm</td>\n",
       "      <td>...</td>\n",
       "      <td>6</td>\n",
       "      <td>-5.616</td>\n",
       "      <td>0</td>\n",
       "      <td>0.1480</td>\n",
       "      <td>0.0522</td>\n",
       "      <td>0.000000</td>\n",
       "      <td>0.460</td>\n",
       "      <td>0.457</td>\n",
       "      <td>116.735</td>\n",
       "      <td>163636</td>\n",
       "    </tr>\n",
       "    <tr>\n",
       "      <th>23104</th>\n",
       "      <td>696DnlkuDOXcMAnKlTgXXK</td>\n",
       "      <td>ROXANNE</td>\n",
       "      <td>Arizona Zervas</td>\n",
       "      <td>99</td>\n",
       "      <td>6HJDrXs0hpebaRFKA1sF90</td>\n",
       "      <td>ROXANNE</td>\n",
       "      <td>2019-10-10</td>\n",
       "      <td>Charts 2020 🔥Top 2020🔥Hits 2020🔥Summer 2020🔥Po...</td>\n",
       "      <td>3xMQTDLOIGvj3lWH5e5x6F</td>\n",
       "      <td>r&amp;b</td>\n",
       "      <td>...</td>\n",
       "      <td>6</td>\n",
       "      <td>-5.616</td>\n",
       "      <td>0</td>\n",
       "      <td>0.1480</td>\n",
       "      <td>0.0522</td>\n",
       "      <td>0.000000</td>\n",
       "      <td>0.460</td>\n",
       "      <td>0.457</td>\n",
       "      <td>116.735</td>\n",
       "      <td>163636</td>\n",
       "    </tr>\n",
       "    <tr>\n",
       "      <th>21468</th>\n",
       "      <td>696DnlkuDOXcMAnKlTgXXK</td>\n",
       "      <td>ROXANNE</td>\n",
       "      <td>Arizona Zervas</td>\n",
       "      <td>99</td>\n",
       "      <td>6HJDrXs0hpebaRFKA1sF90</td>\n",
       "      <td>ROXANNE</td>\n",
       "      <td>2019-10-10</td>\n",
       "      <td>Contemporary Urban</td>\n",
       "      <td>6wyJ4bsjZaUKa9f6GeZlAO</td>\n",
       "      <td>r&amp;b</td>\n",
       "      <td>...</td>\n",
       "      <td>6</td>\n",
       "      <td>-5.616</td>\n",
       "      <td>0</td>\n",
       "      <td>0.1480</td>\n",
       "      <td>0.0522</td>\n",
       "      <td>0.000000</td>\n",
       "      <td>0.460</td>\n",
       "      <td>0.457</td>\n",
       "      <td>116.735</td>\n",
       "      <td>163636</td>\n",
       "    </tr>\n",
       "  </tbody>\n",
       "</table>\n",
       "<p>5 rows × 23 columns</p>\n",
       "</div>"
      ],
      "text/plain": [
       "                     track_id    track_name    track_artist  track_popularity  \\\n",
       "20091  2XU0oxnq2qxCpomAAuJY8K  Dance Monkey     Tones and I               100   \n",
       "1551   2XU0oxnq2qxCpomAAuJY8K  Dance Monkey     Tones and I               100   \n",
       "30202  696DnlkuDOXcMAnKlTgXXK       ROXANNE  Arizona Zervas                99   \n",
       "23104  696DnlkuDOXcMAnKlTgXXK       ROXANNE  Arizona Zervas                99   \n",
       "21468  696DnlkuDOXcMAnKlTgXXK       ROXANNE  Arizona Zervas                99   \n",
       "\n",
       "               track_album_id                             track_album_name  \\\n",
       "20091  0UywfDKYlyiu1b38DRrzYD  Dance Monkey (Stripped Back) / Dance Monkey   \n",
       "1551   0UywfDKYlyiu1b38DRrzYD  Dance Monkey (Stripped Back) / Dance Monkey   \n",
       "30202  6HJDrXs0hpebaRFKA1sF90                                      ROXANNE   \n",
       "23104  6HJDrXs0hpebaRFKA1sF90                                      ROXANNE   \n",
       "21468  6HJDrXs0hpebaRFKA1sF90                                      ROXANNE   \n",
       "\n",
       "      track_album_release_date  \\\n",
       "20091               2019-10-17   \n",
       "1551                2019-10-17   \n",
       "30202               2019-10-10   \n",
       "23104               2019-10-10   \n",
       "21468               2019-10-10   \n",
       "\n",
       "                                           playlist_name  \\\n",
       "20091                          Global Top 50 | 2020 Hits   \n",
       "1551   post-teen alternative, indie, pop (large variety)   \n",
       "30202  Charts 2020 🔥Top 2020🔥Hits 2020🔥Summer 2020🔥Po...   \n",
       "23104  Charts 2020 🔥Top 2020🔥Hits 2020🔥Summer 2020🔥Po...   \n",
       "21468                                 Contemporary Urban   \n",
       "\n",
       "                  playlist_id playlist_genre  ... key  loudness  mode  \\\n",
       "20091  1KNl4AYfgZtOVm9KHkhPTF          latin  ...   6    -6.400     0   \n",
       "1551   1y42gwI5cuwjBslPyQNfqb            pop  ...   6    -6.400     0   \n",
       "30202  3xMQTDLOIGvj3lWH5e5x6F            edm  ...   6    -5.616     0   \n",
       "23104  3xMQTDLOIGvj3lWH5e5x6F            r&b  ...   6    -5.616     0   \n",
       "21468  6wyJ4bsjZaUKa9f6GeZlAO            r&b  ...   6    -5.616     0   \n",
       "\n",
       "       speechiness  acousticness  instrumentalness  liveness  valence  \\\n",
       "20091       0.0924        0.6920          0.000104     0.149    0.513   \n",
       "1551        0.0924        0.6920          0.000104     0.149    0.513   \n",
       "30202       0.1480        0.0522          0.000000     0.460    0.457   \n",
       "23104       0.1480        0.0522          0.000000     0.460    0.457   \n",
       "21468       0.1480        0.0522          0.000000     0.460    0.457   \n",
       "\n",
       "         tempo  duration_ms  \n",
       "20091   98.027       209438  \n",
       "1551    98.027       209438  \n",
       "30202  116.735       163636  \n",
       "23104  116.735       163636  \n",
       "21468  116.735       163636  \n",
       "\n",
       "[5 rows x 23 columns]"
      ]
     },
     "execution_count": 12,
     "metadata": {},
     "output_type": "execute_result"
    }
   ],
   "source": [
    "data_spotify.sort_values('track_popularity', ascending=False).head()"
   ]
  },
  {
   "cell_type": "markdown",
   "metadata": {},
   "source": [
    "Ejercicio: Al set de datos anterior, quedarse con la combinación única de `track_id` y `track_name`."
   ]
  },
  {
   "cell_type": "markdown",
   "metadata": {},
   "source": [
    "¿Cuales son los temas que mas aparecen? (con duplicados...)"
   ]
  },
  {
   "cell_type": "code",
   "execution_count": 13,
   "metadata": {},
   "outputs": [
    {
     "data": {
      "text/html": [
       "<div>\n",
       "<style scoped>\n",
       "    .dataframe tbody tr th:only-of-type {\n",
       "        vertical-align: middle;\n",
       "    }\n",
       "\n",
       "    .dataframe tbody tr th {\n",
       "        vertical-align: top;\n",
       "    }\n",
       "\n",
       "    .dataframe thead th {\n",
       "        text-align: right;\n",
       "    }\n",
       "</style>\n",
       "<table border=\"1\" class=\"dataframe\">\n",
       "  <thead>\n",
       "    <tr style=\"text-align: right;\">\n",
       "      <th></th>\n",
       "      <th>track_name</th>\n",
       "      <th>frequency</th>\n",
       "      <th>percentage</th>\n",
       "      <th>cumulative_perc</th>\n",
       "    </tr>\n",
       "  </thead>\n",
       "  <tbody>\n",
       "    <tr>\n",
       "      <th>0</th>\n",
       "      <td>Poison</td>\n",
       "      <td>22</td>\n",
       "      <td>0.000670</td>\n",
       "      <td>0.000670</td>\n",
       "    </tr>\n",
       "    <tr>\n",
       "      <th>1</th>\n",
       "      <td>Breathe</td>\n",
       "      <td>21</td>\n",
       "      <td>0.000640</td>\n",
       "      <td>0.001310</td>\n",
       "    </tr>\n",
       "    <tr>\n",
       "      <th>2</th>\n",
       "      <td>Forever</td>\n",
       "      <td>20</td>\n",
       "      <td>0.000609</td>\n",
       "      <td>0.001919</td>\n",
       "    </tr>\n",
       "    <tr>\n",
       "      <th>3</th>\n",
       "      <td>Alive</td>\n",
       "      <td>20</td>\n",
       "      <td>0.000609</td>\n",
       "      <td>0.002528</td>\n",
       "    </tr>\n",
       "    <tr>\n",
       "      <th>4</th>\n",
       "      <td>Stay</td>\n",
       "      <td>19</td>\n",
       "      <td>0.000579</td>\n",
       "      <td>0.003107</td>\n",
       "    </tr>\n",
       "    <tr>\n",
       "      <th>...</th>\n",
       "      <td>...</td>\n",
       "      <td>...</td>\n",
       "      <td>...</td>\n",
       "      <td>...</td>\n",
       "    </tr>\n",
       "    <tr>\n",
       "      <th>23444</th>\n",
       "      <td>Mama (feat. Ellie Goulding)</td>\n",
       "      <td>1</td>\n",
       "      <td>0.000030</td>\n",
       "      <td>0.999878</td>\n",
       "    </tr>\n",
       "    <tr>\n",
       "      <th>23445</th>\n",
       "      <td>Cars That Go Boom</td>\n",
       "      <td>1</td>\n",
       "      <td>0.000030</td>\n",
       "      <td>0.999909</td>\n",
       "    </tr>\n",
       "    <tr>\n",
       "      <th>23446</th>\n",
       "      <td>Preto Todo de Ouro</td>\n",
       "      <td>1</td>\n",
       "      <td>0.000030</td>\n",
       "      <td>0.999939</td>\n",
       "    </tr>\n",
       "    <tr>\n",
       "      <th>23447</th>\n",
       "      <td>Majestic</td>\n",
       "      <td>1</td>\n",
       "      <td>0.000030</td>\n",
       "      <td>0.999970</td>\n",
       "    </tr>\n",
       "    <tr>\n",
       "      <th>23448</th>\n",
       "      <td>New Jack City</td>\n",
       "      <td>1</td>\n",
       "      <td>0.000030</td>\n",
       "      <td>1.000000</td>\n",
       "    </tr>\n",
       "  </tbody>\n",
       "</table>\n",
       "<p>23449 rows × 4 columns</p>\n",
       "</div>"
      ],
      "text/plain": [
       "                        track_name  frequency  percentage  cumulative_perc\n",
       "0                           Poison         22    0.000670         0.000670\n",
       "1                          Breathe         21    0.000640         0.001310\n",
       "2                          Forever         20    0.000609         0.001919\n",
       "3                            Alive         20    0.000609         0.002528\n",
       "4                             Stay         19    0.000579         0.003107\n",
       "...                            ...        ...         ...              ...\n",
       "23444  Mama (feat. Ellie Goulding)          1    0.000030         0.999878\n",
       "23445            Cars That Go Boom          1    0.000030         0.999909\n",
       "23446           Preto Todo de Ouro          1    0.000030         0.999939\n",
       "23447                     Majestic          1    0.000030         0.999970\n",
       "23448                New Jack City          1    0.000030         1.000000\n",
       "\n",
       "[23449 rows x 4 columns]"
      ]
     },
     "execution_count": 13,
     "metadata": {},
     "output_type": "execute_result"
    }
   ],
   "source": [
    "freq_track=freq_tbl(data_spotify['track_name'])\n",
    "freq_track"
   ]
  },
  {
   "cell_type": "markdown",
   "metadata": {},
   "source": [
    "## 2) Estadística inferencial"
   ]
  },
  {
   "cell_type": "markdown",
   "metadata": {},
   "source": [
    "Video AE3"
   ]
  },
  {
   "cell_type": "markdown",
   "metadata": {},
   "source": [
    "### 2.1) Muestras de una población (intuición)"
   ]
  },
  {
   "cell_type": "code",
   "execution_count": 14,
   "metadata": {},
   "outputs": [],
   "source": [
    "muestra_1=data_spotify.sample(n=16000, random_state=1)\n",
    "muestra_2=data_spotify.sample(n=16000, random_state=2)\n",
    "muestra_3=data_spotify.sample(n=16000, random_state=3)"
   ]
  },
  {
   "cell_type": "code",
   "execution_count": 15,
   "metadata": {},
   "outputs": [
    {
     "data": {
      "text/plain": [
       "42.5674375"
      ]
     },
     "execution_count": 15,
     "metadata": {},
     "output_type": "execute_result"
    }
   ],
   "source": [
    "muestra_1.track_popularity.mean()"
   ]
  },
  {
   "cell_type": "code",
   "execution_count": 16,
   "metadata": {},
   "outputs": [
    {
     "data": {
      "text/plain": [
       "42.55375"
      ]
     },
     "execution_count": 16,
     "metadata": {},
     "output_type": "execute_result"
    }
   ],
   "source": [
    "muestra_2.track_popularity.mean()"
   ]
  },
  {
   "cell_type": "code",
   "execution_count": 17,
   "metadata": {},
   "outputs": [
    {
     "data": {
      "text/plain": [
       "42.6625625"
      ]
     },
     "execution_count": 17,
     "metadata": {},
     "output_type": "execute_result"
    }
   ],
   "source": [
    "muestra_3.track_popularity.mean()"
   ]
  },
  {
   "cell_type": "code",
   "execution_count": 18,
   "metadata": {},
   "outputs": [
    {
     "data": {
      "text/html": [
       "<div>\n",
       "<style scoped>\n",
       "    .dataframe tbody tr th:only-of-type {\n",
       "        vertical-align: middle;\n",
       "    }\n",
       "\n",
       "    .dataframe tbody tr th {\n",
       "        vertical-align: top;\n",
       "    }\n",
       "\n",
       "    .dataframe thead th {\n",
       "        text-align: right;\n",
       "    }\n",
       "</style>\n",
       "<table border=\"1\" class=\"dataframe\">\n",
       "  <thead>\n",
       "    <tr style=\"text-align: right;\">\n",
       "      <th></th>\n",
       "      <th>track_id</th>\n",
       "      <th>track_name</th>\n",
       "      <th>track_artist</th>\n",
       "      <th>track_popularity</th>\n",
       "      <th>track_album_id</th>\n",
       "      <th>track_album_name</th>\n",
       "      <th>track_album_release_date</th>\n",
       "      <th>playlist_name</th>\n",
       "      <th>playlist_id</th>\n",
       "      <th>playlist_genre</th>\n",
       "      <th>...</th>\n",
       "      <th>key</th>\n",
       "      <th>loudness</th>\n",
       "      <th>mode</th>\n",
       "      <th>speechiness</th>\n",
       "      <th>acousticness</th>\n",
       "      <th>instrumentalness</th>\n",
       "      <th>liveness</th>\n",
       "      <th>valence</th>\n",
       "      <th>tempo</th>\n",
       "      <th>duration_ms</th>\n",
       "    </tr>\n",
       "  </thead>\n",
       "  <tbody>\n",
       "    <tr>\n",
       "      <th>27688</th>\n",
       "      <td>4XgTgTG9FF7llF5waA0KSE</td>\n",
       "      <td>Sweet &amp; Sour</td>\n",
       "      <td>Mike Williams</td>\n",
       "      <td>0</td>\n",
       "      <td>4jy8viBbz3dZaYjYbR4Pwz</td>\n",
       "      <td>Sweet &amp; Sour</td>\n",
       "      <td>2016-03-11</td>\n",
       "      <td>Jeff Seid Electro House</td>\n",
       "      <td>2Tisn6NZbeofpc57Oc6MGo</td>\n",
       "      <td>edm</td>\n",
       "      <td>...</td>\n",
       "      <td>1</td>\n",
       "      <td>-5.510</td>\n",
       "      <td>1</td>\n",
       "      <td>0.0413</td>\n",
       "      <td>0.000113</td>\n",
       "      <td>0.856000</td>\n",
       "      <td>0.1450</td>\n",
       "      <td>0.385</td>\n",
       "      <td>127.966</td>\n",
       "      <td>177611</td>\n",
       "    </tr>\n",
       "    <tr>\n",
       "      <th>17835</th>\n",
       "      <td>17G9G5tBsdzmKmoHIh00sX</td>\n",
       "      <td>Me Gusta - Remix</td>\n",
       "      <td>Natti Natasha</td>\n",
       "      <td>70</td>\n",
       "      <td>1D7lFbv4p8DjJVKOcHfX1r</td>\n",
       "      <td>Me Gusta (Remix)</td>\n",
       "      <td>2019-05-01</td>\n",
       "      <td>LATIN POP 2020 🔥 Pop latino actual</td>\n",
       "      <td>2kKzN3kRYDzBctlaWs7CP2</td>\n",
       "      <td>latin</td>\n",
       "      <td>...</td>\n",
       "      <td>1</td>\n",
       "      <td>-3.527</td>\n",
       "      <td>0</td>\n",
       "      <td>0.0401</td>\n",
       "      <td>0.024700</td>\n",
       "      <td>0.000003</td>\n",
       "      <td>0.2720</td>\n",
       "      <td>0.835</td>\n",
       "      <td>96.010</td>\n",
       "      <td>197013</td>\n",
       "    </tr>\n",
       "    <tr>\n",
       "      <th>24609</th>\n",
       "      <td>1n86eBhlqaxWIwi5YZTUok</td>\n",
       "      <td>I Get Around</td>\n",
       "      <td>2Pac</td>\n",
       "      <td>8</td>\n",
       "      <td>57ewG8zGTf3Thf3v7boDaA</td>\n",
       "      <td>Strictly 4 My N.I.G.G.A.Z...</td>\n",
       "      <td>1993-02-16</td>\n",
       "      <td>Ultimate Throwbacks Collection</td>\n",
       "      <td>1dsaMvnC1hXPCNGC4aVtjj</td>\n",
       "      <td>r&amp;b</td>\n",
       "      <td>...</td>\n",
       "      <td>10</td>\n",
       "      <td>-13.927</td>\n",
       "      <td>0</td>\n",
       "      <td>0.1170</td>\n",
       "      <td>0.152000</td>\n",
       "      <td>0.000018</td>\n",
       "      <td>0.2510</td>\n",
       "      <td>0.633</td>\n",
       "      <td>96.194</td>\n",
       "      <td>259000</td>\n",
       "    </tr>\n",
       "    <tr>\n",
       "      <th>21573</th>\n",
       "      <td>41L3O37CECZt3N7ziG2z7l</td>\n",
       "      <td>Yummy</td>\n",
       "      <td>Justin Bieber</td>\n",
       "      <td>95</td>\n",
       "      <td>1SN6N3fNkZk5oXQ9X46QZ3</td>\n",
       "      <td>Yummy</td>\n",
       "      <td>2020-01-03</td>\n",
       "      <td>Most Popular 2020 TOP 50</td>\n",
       "      <td>1fqkbjEACMlekdddm5aobE</td>\n",
       "      <td>r&amp;b</td>\n",
       "      <td>...</td>\n",
       "      <td>9</td>\n",
       "      <td>-6.554</td>\n",
       "      <td>0</td>\n",
       "      <td>0.1060</td>\n",
       "      <td>0.404000</td>\n",
       "      <td>0.000000</td>\n",
       "      <td>0.1210</td>\n",
       "      <td>0.495</td>\n",
       "      <td>145.841</td>\n",
       "      <td>210427</td>\n",
       "    </tr>\n",
       "    <tr>\n",
       "      <th>2558</th>\n",
       "      <td>6BaCraQ9xeLYg4Sb9TBT2X</td>\n",
       "      <td>Feels (feat. Pharrell Williams, Katy Perry &amp; B...</td>\n",
       "      <td>Calvin Harris</td>\n",
       "      <td>66</td>\n",
       "      <td>52LQhrLLYOup9HhaOsv54e</td>\n",
       "      <td>Feels (feat. Pharrell Williams, Katy Perry &amp; B...</td>\n",
       "      <td>2017-06-16</td>\n",
       "      <td>Electropop Hits  2017-2020</td>\n",
       "      <td>7kyvBmlc1uSqsTL0EuNLrx</td>\n",
       "      <td>pop</td>\n",
       "      <td>...</td>\n",
       "      <td>11</td>\n",
       "      <td>-3.105</td>\n",
       "      <td>0</td>\n",
       "      <td>0.0571</td>\n",
       "      <td>0.064200</td>\n",
       "      <td>0.000000</td>\n",
       "      <td>0.0943</td>\n",
       "      <td>0.872</td>\n",
       "      <td>101.018</td>\n",
       "      <td>223413</td>\n",
       "    </tr>\n",
       "    <tr>\n",
       "      <th>...</th>\n",
       "      <td>...</td>\n",
       "      <td>...</td>\n",
       "      <td>...</td>\n",
       "      <td>...</td>\n",
       "      <td>...</td>\n",
       "      <td>...</td>\n",
       "      <td>...</td>\n",
       "      <td>...</td>\n",
       "      <td>...</td>\n",
       "      <td>...</td>\n",
       "      <td>...</td>\n",
       "      <td>...</td>\n",
       "      <td>...</td>\n",
       "      <td>...</td>\n",
       "      <td>...</td>\n",
       "      <td>...</td>\n",
       "      <td>...</td>\n",
       "      <td>...</td>\n",
       "      <td>...</td>\n",
       "      <td>...</td>\n",
       "      <td>...</td>\n",
       "    </tr>\n",
       "    <tr>\n",
       "      <th>9546</th>\n",
       "      <td>5UQOmTylBEdsIfSn37v3DO</td>\n",
       "      <td>Straight Up Menace</td>\n",
       "      <td>MC Eiht</td>\n",
       "      <td>56</td>\n",
       "      <td>38BUSePXkHHL9gNyS1weTB</td>\n",
       "      <td>The Best of MC Eiht</td>\n",
       "      <td>2010-09-21</td>\n",
       "      <td>Gangsta Rap/90's Hip-Hop</td>\n",
       "      <td>62spXXfUxBed8nbd5xvH2O</td>\n",
       "      <td>rap</td>\n",
       "      <td>...</td>\n",
       "      <td>7</td>\n",
       "      <td>-9.639</td>\n",
       "      <td>1</td>\n",
       "      <td>0.1420</td>\n",
       "      <td>0.001380</td>\n",
       "      <td>0.007010</td>\n",
       "      <td>0.3230</td>\n",
       "      <td>0.524</td>\n",
       "      <td>79.855</td>\n",
       "      <td>274307</td>\n",
       "    </tr>\n",
       "    <tr>\n",
       "      <th>28165</th>\n",
       "      <td>2h4QMolhE2puX7CYZyYOmn</td>\n",
       "      <td>Disappear</td>\n",
       "      <td>Rob Stepwart</td>\n",
       "      <td>13</td>\n",
       "      <td>246E5OvV4QXhPrGOSj7vdb</td>\n",
       "      <td>Trip Stories</td>\n",
       "      <td>2018-11-27</td>\n",
       "      <td>House Electro 2019</td>\n",
       "      <td>72r6odw0Q3OWTCYMGA7Yiy</td>\n",
       "      <td>edm</td>\n",
       "      <td>...</td>\n",
       "      <td>1</td>\n",
       "      <td>-5.565</td>\n",
       "      <td>1</td>\n",
       "      <td>0.2920</td>\n",
       "      <td>0.280000</td>\n",
       "      <td>0.000000</td>\n",
       "      <td>0.2100</td>\n",
       "      <td>0.535</td>\n",
       "      <td>128.049</td>\n",
       "      <td>161250</td>\n",
       "    </tr>\n",
       "    <tr>\n",
       "      <th>22622</th>\n",
       "      <td>5r42z9LpkdDAYe3bmbnO5M</td>\n",
       "      <td>Un Bolero Que Te Salve - Remasterizado</td>\n",
       "      <td>Leoni Torres</td>\n",
       "      <td>26</td>\n",
       "      <td>4EYZaRvd05NA1IVzJZv8dd</td>\n",
       "      <td>Latiendo (Remasterizado)</td>\n",
       "      <td>2011-02-10</td>\n",
       "      <td>Cuban vibes only</td>\n",
       "      <td>6VWXakL2ojgiVC01I271e2</td>\n",
       "      <td>r&amp;b</td>\n",
       "      <td>...</td>\n",
       "      <td>0</td>\n",
       "      <td>-7.135</td>\n",
       "      <td>1</td>\n",
       "      <td>0.0303</td>\n",
       "      <td>0.626000</td>\n",
       "      <td>0.000010</td>\n",
       "      <td>0.0842</td>\n",
       "      <td>0.450</td>\n",
       "      <td>133.939</td>\n",
       "      <td>221000</td>\n",
       "    </tr>\n",
       "    <tr>\n",
       "      <th>16154</th>\n",
       "      <td>6jbUknjNdYMr4I5WB1Mmis</td>\n",
       "      <td>Love Hurts</td>\n",
       "      <td>Nazareth</td>\n",
       "      <td>1</td>\n",
       "      <td>0OYxyoXzDB2ybBBU9slmxN</td>\n",
       "      <td>The Singles</td>\n",
       "      <td>2012-02-20</td>\n",
       "      <td>Hard Rock Classics 1967-1991 (Party Edition)</td>\n",
       "      <td>1NIX36ZFWEtgXSbSNghoue</td>\n",
       "      <td>rock</td>\n",
       "      <td>...</td>\n",
       "      <td>7</td>\n",
       "      <td>-6.584</td>\n",
       "      <td>1</td>\n",
       "      <td>0.0245</td>\n",
       "      <td>0.006130</td>\n",
       "      <td>0.007800</td>\n",
       "      <td>0.1130</td>\n",
       "      <td>0.119</td>\n",
       "      <td>80.071</td>\n",
       "      <td>233013</td>\n",
       "    </tr>\n",
       "    <tr>\n",
       "      <th>8019</th>\n",
       "      <td>3H1WufSXLnOPckdJnFDbtF</td>\n",
       "      <td>Leflaur Leflah Eshkoshka</td>\n",
       "      <td>Heltah Skeltah</td>\n",
       "      <td>44</td>\n",
       "      <td>2y2mVMtsGw109N65M3NiWO</td>\n",
       "      <td>Nocturnal</td>\n",
       "      <td>1996-01-01</td>\n",
       "      <td>90's Hip Hop Ultimate Collection</td>\n",
       "      <td>4IG024zoaGMurhTFBkMAv9</td>\n",
       "      <td>rap</td>\n",
       "      <td>...</td>\n",
       "      <td>11</td>\n",
       "      <td>-10.879</td>\n",
       "      <td>0</td>\n",
       "      <td>0.3530</td>\n",
       "      <td>0.023600</td>\n",
       "      <td>0.000000</td>\n",
       "      <td>0.1320</td>\n",
       "      <td>0.698</td>\n",
       "      <td>92.062</td>\n",
       "      <td>303299</td>\n",
       "    </tr>\n",
       "  </tbody>\n",
       "</table>\n",
       "<p>16000 rows × 23 columns</p>\n",
       "</div>"
      ],
      "text/plain": [
       "                     track_id  \\\n",
       "27688  4XgTgTG9FF7llF5waA0KSE   \n",
       "17835  17G9G5tBsdzmKmoHIh00sX   \n",
       "24609  1n86eBhlqaxWIwi5YZTUok   \n",
       "21573  41L3O37CECZt3N7ziG2z7l   \n",
       "2558   6BaCraQ9xeLYg4Sb9TBT2X   \n",
       "...                       ...   \n",
       "9546   5UQOmTylBEdsIfSn37v3DO   \n",
       "28165  2h4QMolhE2puX7CYZyYOmn   \n",
       "22622  5r42z9LpkdDAYe3bmbnO5M   \n",
       "16154  6jbUknjNdYMr4I5WB1Mmis   \n",
       "8019   3H1WufSXLnOPckdJnFDbtF   \n",
       "\n",
       "                                              track_name    track_artist  \\\n",
       "27688                                       Sweet & Sour   Mike Williams   \n",
       "17835                                   Me Gusta - Remix   Natti Natasha   \n",
       "24609                                       I Get Around            2Pac   \n",
       "21573                                              Yummy   Justin Bieber   \n",
       "2558   Feels (feat. Pharrell Williams, Katy Perry & B...   Calvin Harris   \n",
       "...                                                  ...             ...   \n",
       "9546                                  Straight Up Menace         MC Eiht   \n",
       "28165                                          Disappear    Rob Stepwart   \n",
       "22622             Un Bolero Que Te Salve - Remasterizado    Leoni Torres   \n",
       "16154                                         Love Hurts        Nazareth   \n",
       "8019                            Leflaur Leflah Eshkoshka  Heltah Skeltah   \n",
       "\n",
       "       track_popularity          track_album_id  \\\n",
       "27688                 0  4jy8viBbz3dZaYjYbR4Pwz   \n",
       "17835                70  1D7lFbv4p8DjJVKOcHfX1r   \n",
       "24609                 8  57ewG8zGTf3Thf3v7boDaA   \n",
       "21573                95  1SN6N3fNkZk5oXQ9X46QZ3   \n",
       "2558                 66  52LQhrLLYOup9HhaOsv54e   \n",
       "...                 ...                     ...   \n",
       "9546                 56  38BUSePXkHHL9gNyS1weTB   \n",
       "28165                13  246E5OvV4QXhPrGOSj7vdb   \n",
       "22622                26  4EYZaRvd05NA1IVzJZv8dd   \n",
       "16154                 1  0OYxyoXzDB2ybBBU9slmxN   \n",
       "8019                 44  2y2mVMtsGw109N65M3NiWO   \n",
       "\n",
       "                                        track_album_name  \\\n",
       "27688                                       Sweet & Sour   \n",
       "17835                                   Me Gusta (Remix)   \n",
       "24609                       Strictly 4 My N.I.G.G.A.Z...   \n",
       "21573                                              Yummy   \n",
       "2558   Feels (feat. Pharrell Williams, Katy Perry & B...   \n",
       "...                                                  ...   \n",
       "9546                                 The Best of MC Eiht   \n",
       "28165                                       Trip Stories   \n",
       "22622                           Latiendo (Remasterizado)   \n",
       "16154                                        The Singles   \n",
       "8019                                           Nocturnal   \n",
       "\n",
       "      track_album_release_date                                 playlist_name  \\\n",
       "27688               2016-03-11                       Jeff Seid Electro House   \n",
       "17835               2019-05-01            LATIN POP 2020 🔥 Pop latino actual   \n",
       "24609               1993-02-16                Ultimate Throwbacks Collection   \n",
       "21573               2020-01-03                      Most Popular 2020 TOP 50   \n",
       "2558                2017-06-16                    Electropop Hits  2017-2020   \n",
       "...                        ...                                           ...   \n",
       "9546                2010-09-21                      Gangsta Rap/90's Hip-Hop   \n",
       "28165               2018-11-27                            House Electro 2019   \n",
       "22622               2011-02-10                              Cuban vibes only   \n",
       "16154               2012-02-20  Hard Rock Classics 1967-1991 (Party Edition)   \n",
       "8019                1996-01-01              90's Hip Hop Ultimate Collection   \n",
       "\n",
       "                  playlist_id playlist_genre  ... key  loudness  mode  \\\n",
       "27688  2Tisn6NZbeofpc57Oc6MGo            edm  ...   1    -5.510     1   \n",
       "17835  2kKzN3kRYDzBctlaWs7CP2          latin  ...   1    -3.527     0   \n",
       "24609  1dsaMvnC1hXPCNGC4aVtjj            r&b  ...  10   -13.927     0   \n",
       "21573  1fqkbjEACMlekdddm5aobE            r&b  ...   9    -6.554     0   \n",
       "2558   7kyvBmlc1uSqsTL0EuNLrx            pop  ...  11    -3.105     0   \n",
       "...                       ...            ...  ...  ..       ...   ...   \n",
       "9546   62spXXfUxBed8nbd5xvH2O            rap  ...   7    -9.639     1   \n",
       "28165  72r6odw0Q3OWTCYMGA7Yiy            edm  ...   1    -5.565     1   \n",
       "22622  6VWXakL2ojgiVC01I271e2            r&b  ...   0    -7.135     1   \n",
       "16154  1NIX36ZFWEtgXSbSNghoue           rock  ...   7    -6.584     1   \n",
       "8019   4IG024zoaGMurhTFBkMAv9            rap  ...  11   -10.879     0   \n",
       "\n",
       "       speechiness  acousticness  instrumentalness  liveness  valence  \\\n",
       "27688       0.0413      0.000113          0.856000    0.1450    0.385   \n",
       "17835       0.0401      0.024700          0.000003    0.2720    0.835   \n",
       "24609       0.1170      0.152000          0.000018    0.2510    0.633   \n",
       "21573       0.1060      0.404000          0.000000    0.1210    0.495   \n",
       "2558        0.0571      0.064200          0.000000    0.0943    0.872   \n",
       "...            ...           ...               ...       ...      ...   \n",
       "9546        0.1420      0.001380          0.007010    0.3230    0.524   \n",
       "28165       0.2920      0.280000          0.000000    0.2100    0.535   \n",
       "22622       0.0303      0.626000          0.000010    0.0842    0.450   \n",
       "16154       0.0245      0.006130          0.007800    0.1130    0.119   \n",
       "8019        0.3530      0.023600          0.000000    0.1320    0.698   \n",
       "\n",
       "         tempo  duration_ms  \n",
       "27688  127.966       177611  \n",
       "17835   96.010       197013  \n",
       "24609   96.194       259000  \n",
       "21573  145.841       210427  \n",
       "2558   101.018       223413  \n",
       "...        ...          ...  \n",
       "9546    79.855       274307  \n",
       "28165  128.049       161250  \n",
       "22622  133.939       221000  \n",
       "16154   80.071       233013  \n",
       "8019    92.062       303299  \n",
       "\n",
       "[16000 rows x 23 columns]"
      ]
     },
     "execution_count": 18,
     "metadata": {},
     "output_type": "execute_result"
    }
   ],
   "source": [
    "muestra_1  # TR - data de entrenamiento\n",
    "muestra_2  # TS - data de validacion"
   ]
  },
  {
   "cell_type": "markdown",
   "metadata": {},
   "source": [
    "¿Bastante estable alrededor de 42 no?"
   ]
  },
  {
   "cell_type": "code",
   "execution_count": null,
   "metadata": {},
   "outputs": [],
   "source": [
    "\n",
    "\n",
    "\n",
    "\n",
    "\n",
    "\n",
    "\n",
    "\n",
    "\n",
    "\n",
    "\n",
    "\n",
    "\n",
    "\n",
    "\n",
    "\n"
   ]
  },
  {
   "cell_type": "markdown",
   "metadata": {},
   "source": [
    "### 2.2) ¿Que pasa cuando la muestra baja mucho?"
   ]
  },
  {
   "cell_type": "code",
   "execution_count": 19,
   "metadata": {},
   "outputs": [],
   "source": [
    "muestra_4=data_spotify.sample(n=100, random_state=1)\n",
    "muestra_5=data_spotify.sample(n=100, random_state=2)\n",
    "muestra_6=data_spotify.sample(n=100, random_state=3)"
   ]
  },
  {
   "cell_type": "code",
   "execution_count": 20,
   "metadata": {},
   "outputs": [
    {
     "data": {
      "text/plain": [
       "41.41"
      ]
     },
     "execution_count": 20,
     "metadata": {},
     "output_type": "execute_result"
    }
   ],
   "source": [
    "muestra_4.track_popularity.mean()"
   ]
  },
  {
   "cell_type": "code",
   "execution_count": 21,
   "metadata": {},
   "outputs": [
    {
     "data": {
      "text/plain": [
       "41.58"
      ]
     },
     "execution_count": 21,
     "metadata": {},
     "output_type": "execute_result"
    }
   ],
   "source": [
    "muestra_5.track_popularity.mean()"
   ]
  },
  {
   "cell_type": "code",
   "execution_count": 22,
   "metadata": {},
   "outputs": [
    {
     "data": {
      "text/plain": [
       "44.3"
      ]
     },
     "execution_count": 22,
     "metadata": {},
     "output_type": "execute_result"
    }
   ],
   "source": [
    "muestra_6.track_popularity.mean()"
   ]
  },
  {
   "cell_type": "markdown",
   "metadata": {},
   "source": [
    "En la muestra 6 hay un **desvío de casi el 10%!**\n",
    "\n",
    "Al tener menos valores en la muestra mas desvio voy a obtener en los promedios"
   ]
  },
  {
   "cell_type": "markdown",
   "metadata": {},
   "source": [
    "¿Cuántos datos necesito para hacer un modelo predictivo?\n"
   ]
  },
  {
   "cell_type": "markdown",
   "metadata": {},
   "source": [
    "#### Dos tipos de muestras:\n",
    "    \n",
    "- Muestras independientes -> (modelos predictivos)\n",
    "- Muestras relacionadas -> (Area de medicina)"
   ]
  },
  {
   "cell_type": "code",
   "execution_count": null,
   "metadata": {},
   "outputs": [],
   "source": []
  },
  {
   "cell_type": "markdown",
   "metadata": {},
   "source": [
    "## 3) Promedio y desvío estándar"
   ]
  },
  {
   "cell_type": "code",
   "execution_count": 23,
   "metadata": {},
   "outputs": [],
   "source": [
    "data_pop_rap1=data_spotify[data_spotify['playlist_genre'].isin(['pop', 'rap', 'latin'])]\n",
    "data_pop_rap2=data_pop_rap1[['playlist_genre','duration_ms']]"
   ]
  },
  {
   "cell_type": "code",
   "execution_count": 24,
   "metadata": {},
   "outputs": [
    {
     "data": {
      "text/html": [
       "<div>\n",
       "<style scoped>\n",
       "    .dataframe tbody tr th:only-of-type {\n",
       "        vertical-align: middle;\n",
       "    }\n",
       "\n",
       "    .dataframe tbody tr th {\n",
       "        vertical-align: top;\n",
       "    }\n",
       "\n",
       "    .dataframe thead th {\n",
       "        text-align: right;\n",
       "    }\n",
       "</style>\n",
       "<table border=\"1\" class=\"dataframe\">\n",
       "  <thead>\n",
       "    <tr style=\"text-align: right;\">\n",
       "      <th></th>\n",
       "      <th>duration_ms</th>\n",
       "    </tr>\n",
       "    <tr>\n",
       "      <th>playlist_genre</th>\n",
       "      <th></th>\n",
       "    </tr>\n",
       "  </thead>\n",
       "  <tbody>\n",
       "    <tr>\n",
       "      <th>latin</th>\n",
       "      <td>216.863447</td>\n",
       "    </tr>\n",
       "    <tr>\n",
       "      <th>pop</th>\n",
       "      <td>217.768104</td>\n",
       "    </tr>\n",
       "    <tr>\n",
       "      <th>rap</th>\n",
       "      <td>214.163889</td>\n",
       "    </tr>\n",
       "  </tbody>\n",
       "</table>\n",
       "</div>"
      ],
      "text/plain": [
       "                duration_ms\n",
       "playlist_genre             \n",
       "latin            216.863447\n",
       "pop              217.768104\n",
       "rap              214.163889"
      ]
     },
     "execution_count": 24,
     "metadata": {},
     "output_type": "execute_result"
    }
   ],
   "source": [
    "data_pop_rap2.groupby('playlist_genre').mean()/1000 # duración en segundos"
   ]
  },
  {
   "cell_type": "code",
   "execution_count": 25,
   "metadata": {},
   "outputs": [
    {
     "data": {
      "text/html": [
       "<div>\n",
       "<style scoped>\n",
       "    .dataframe tbody tr th:only-of-type {\n",
       "        vertical-align: middle;\n",
       "    }\n",
       "\n",
       "    .dataframe tbody tr th {\n",
       "        vertical-align: top;\n",
       "    }\n",
       "\n",
       "    .dataframe thead th {\n",
       "        text-align: right;\n",
       "    }\n",
       "</style>\n",
       "<table border=\"1\" class=\"dataframe\">\n",
       "  <thead>\n",
       "    <tr style=\"text-align: right;\">\n",
       "      <th></th>\n",
       "      <th>duration_ms</th>\n",
       "    </tr>\n",
       "    <tr>\n",
       "      <th>playlist_genre</th>\n",
       "      <th></th>\n",
       "    </tr>\n",
       "  </thead>\n",
       "  <tbody>\n",
       "    <tr>\n",
       "      <th>latin</th>\n",
       "      <td>48.401258</td>\n",
       "    </tr>\n",
       "    <tr>\n",
       "      <th>pop</th>\n",
       "      <td>45.312946</td>\n",
       "    </tr>\n",
       "    <tr>\n",
       "      <th>rap</th>\n",
       "      <td>60.265287</td>\n",
       "    </tr>\n",
       "  </tbody>\n",
       "</table>\n",
       "</div>"
      ],
      "text/plain": [
       "                duration_ms\n",
       "playlist_genre             \n",
       "latin             48.401258\n",
       "pop               45.312946\n",
       "rap               60.265287"
      ]
     },
     "execution_count": 25,
     "metadata": {},
     "output_type": "execute_result"
    }
   ],
   "source": [
    "data_pop_rap2.groupby('playlist_genre').std()/1000"
   ]
  },
  {
   "cell_type": "markdown",
   "metadata": {},
   "source": [
    "Promedios muy parecidos... pero desvíos estandares no \"tan similares\".\n",
    "\n",
    "**¿Hay alguna manera de medirlo mas estandarizado?**"
   ]
  },
  {
   "cell_type": "markdown",
   "metadata": {},
   "source": [
    "Lectura recomendada del análisis del error en ML: [Conociendo el error | Libro Vivo de Ciencia de Datos](https://librovivodecienciadedatos.ai/desempe%C3%B1o-modelo.html#conociendo_el_error)"
   ]
  },
  {
   "cell_type": "markdown",
   "metadata": {},
   "source": [
    "## 4)Test de hipótesis"
   ]
  },
  {
   "cell_type": "markdown",
   "metadata": {},
   "source": [
    "#### Un poco de teoría:\n",
    "\n",
    "La prueba (test) **t-student**, se usa para determinar si los promedios entre dos muestras son realmente diferentes (como un juez imparcial).\n",
    "\n",
    "En la t-student comparamos 2 muestras de una población desconocida (no tenemos todos los temas). Las muestras son al azar e independientes.\n",
    "\n",
    "Si las muestras están relacionadas (ej mismo paciente con un medicamento), se usa: \"Paired Sample T-Test\". No tan común en ML."
   ]
  },
  {
   "cell_type": "code",
   "execution_count": 26,
   "metadata": {},
   "outputs": [],
   "source": [
    "d_pop=data_spotify.query(\"playlist_genre=='pop'\")['duration_ms'].rename('duration_pop')\n",
    "d_rap=data_spotify.query(\"playlist_genre=='rap'\")['duration_ms'].rename('duration_rap')"
   ]
  },
  {
   "cell_type": "code",
   "execution_count": 27,
   "metadata": {},
   "outputs": [
    {
     "data": {
      "image/png": "[encoded data removed]",
      "text/plain": [
       "<Figure size 432x288 with 1 Axes>"
      ]
     },
     "metadata": {
      "needs_background": "light"
     },
     "output_type": "display_data"
    }
   ],
   "source": [
    "import seaborn as sns\n",
    "import matplotlib.pyplot as plt\n",
    "\n",
    "sns.kdeplot(d_pop, shade=True)\n",
    "sns.kdeplot(d_rap, shade=True)\n",
    "\n",
    "p=plt.title(\"Duration ms\")"
   ]
  },
  {
   "cell_type": "markdown",
   "metadata": {},
   "source": [
    "- Hipótesis nula: µa = µb (el promedio de ambas muestras es igual)\n",
    "\n",
    "- Hipótesis alternativa: µa ≠ µb (el promedio de ambas muestras no es igual) \n",
    "\n",
    "\n",
    "Nivel de significancia: 0.05"
   ]
  },
  {
   "cell_type": "code",
   "execution_count": 28,
   "metadata": {},
   "outputs": [
    {
     "name": "stdout",
     "output_type": "stream",
     "text": [
      "p-value: 0.000325\n"
     ]
    }
   ],
   "source": [
    "from scipy import stats\n",
    "\n",
    "t_stat, p_value = stats.ttest_ind(d_pop, d_rap, equal_var = False)\n",
    "\n",
    "print(\"p-value: {0}\".format(round(p_value, 6)))"
   ]
  },
  {
   "cell_type": "markdown",
   "metadata": {},
   "source": [
    "Como el p-value de `0.000325` es menor que el nivel de significancia **alpha=0.05**, podemos rechazar la hipótesis nula y aceptar la hipótesis alternativa de que la diferencia de los promedios en ambas muestras no es 0."
   ]
  },
  {
   "cell_type": "markdown",
   "metadata": {},
   "source": [
    "Asumimos que la varianza en las muestras no es la misma: `usevar='unequal'`\n",
    "\n",
    "**Regla:**\n",
    "> **Si p-value < alpha → rechazo la hipótesis nula (rechazo que H0: la diferencia entre las medias es 0)**"
   ]
  },
  {
   "cell_type": "code",
   "execution_count": 29,
   "metadata": {},
   "outputs": [
    {
     "name": "stdout",
     "output_type": "stream",
     "text": [
      "Requirement already satisfied: statsmodels in c:\\users\\skull\\anaconda3\\lib\\site-packages (0.12.0)\n",
      "Requirement already satisfied: numpy>=1.15 in c:\\users\\skull\\anaconda3\\lib\\site-packages (from statsmodels) (1.19.2)\n",
      "Requirement already satisfied: scipy>=1.1 in c:\\users\\skull\\anaconda3\\lib\\site-packages (from statsmodels) (1.5.2)\n",
      "Requirement already satisfied: pandas>=0.21 in c:\\users\\skull\\anaconda3\\lib\\site-packages (from statsmodels) (1.1.3)\n",
      "Requirement already satisfied: patsy>=0.5 in c:\\users\\skull\\anaconda3\\lib\\site-packages (from statsmodels) (0.5.1)\n",
      "Requirement already satisfied: python-dateutil>=2.7.3 in c:\\users\\skull\\anaconda3\\lib\\site-packages (from pandas>=0.21->statsmodels) (2.8.1)\n",
      "Requirement already satisfied: pytz>=2017.2 in c:\\users\\skull\\anaconda3\\lib\\site-packages (from pandas>=0.21->statsmodels) (2020.1)\n",
      "Requirement already satisfied: six in c:\\users\\skull\\anaconda3\\lib\\site-packages (from patsy>=0.5->statsmodels) (1.15.0)\n",
      "Note: you may need to restart the kernel to use updated packages.\n"
     ]
    }
   ],
   "source": [
    "pip install statsmodels"
   ]
  },
  {
   "cell_type": "markdown",
   "metadata": {},
   "source": [
    "## 5) Intervalo de confianza del parámetro"
   ]
  },
  {
   "cell_type": "code",
   "execution_count": 37,
   "metadata": {},
   "outputs": [
    {
     "name": "stdout",
     "output_type": "stream",
     "text": [
      "(1639.2109407359299, 5569.2192406786)\n"
     ]
    }
   ],
   "source": [
    "import numpy as np, statsmodels.stats.api as sms\n",
    "cm = sms.CompareMeans(sms.DescrStatsW(d_pop), sms.DescrStatsW(d_rap))\n",
    "print(cm.tconfint_diff(usevar='unequal'))"
   ]
  },
  {
   "cell_type": "markdown",
   "metadata": {},
   "source": [
    "Notar que el intervalo de confianza no contiene al 0."
   ]
  },
  {
   "cell_type": "markdown",
   "metadata": {},
   "source": [
    "Animación de seeing the theory que aparece en el video: https://seeing-theory.brown.edu/frequentist-inference/es.html#section2"
   ]
  },
  {
   "cell_type": "markdown",
   "metadata": {},
   "source": [
    "## Otro caso!"
   ]
  },
  {
   "cell_type": "code",
   "execution_count": 38,
   "metadata": {},
   "outputs": [],
   "source": [
    "data_2=data_spotify[data_spotify['playlist_genre'].isin(['pop', 'latin'])]\n",
    "data_2=data_2[['playlist_genre','duration_ms']]"
   ]
  },
  {
   "cell_type": "code",
   "execution_count": 39,
   "metadata": {},
   "outputs": [],
   "source": [
    "d_pop=data_2.query(\"playlist_genre=='pop'\")['duration_ms']\n",
    "d_latin=data_2.query(\"playlist_genre=='latin'\")['duration_ms']"
   ]
  },
  {
   "cell_type": "code",
   "execution_count": 40,
   "metadata": {},
   "outputs": [
    {
     "data": {
      "image/png": "[encoded data removed]",
      "text/plain": [
       "<Figure size 432x288 with 1 Axes>"
      ]
     },
     "metadata": {
      "needs_background": "light"
     },
     "output_type": "display_data"
    }
   ],
   "source": [
    "sns.kdeplot(d_pop, shade=True)\n",
    "sns.kdeplot(d_latin, shade=True)\n",
    "\n",
    "p=plt.title(\"Independent Sample T-Test\")"
   ]
  },
  {
   "cell_type": "code",
   "execution_count": 41,
   "metadata": {},
   "outputs": [
    {
     "name": "stdout",
     "output_type": "stream",
     "text": [
      "p-value: 0.319948 | t-statistic: 0.99461\n"
     ]
    }
   ],
   "source": [
    "from scipy import stats\n",
    "t_stat, p_value = stats.ttest_ind(d_pop, d_latin, equal_var = False)\n",
    "print(\"p-value: {0} | t-statistic: {1}\".format(round(p_value, 6), round(t_stat, 5)))"
   ]
  },
  {
   "cell_type": "code",
   "execution_count": 42,
   "metadata": {},
   "outputs": [
    {
     "name": "stdout",
     "output_type": "stream",
     "text": [
      "(-878.2482287572063, 2687.5628012869574)\n"
     ]
    }
   ],
   "source": [
    "import numpy as np, statsmodels.stats.api as sms\n",
    "cm = sms.CompareMeans(sms.DescrStatsW(d_pop), sms.DescrStatsW(d_latin))\n",
    "print(cm.tconfint_diff(usevar='unequal'))"
   ]
  },
  {
   "cell_type": "markdown",
   "metadata": {},
   "source": [
    "#### Comentarios sobre test de hipótesis y aspectos que no cubrimos:\n",
    "    \n",
    "- Test de normalidad (normalmente, no son normales las curvas) \n",
    "- Tamaño de la muestra (normalmente son > 30)\n",
    "- Conocer el promedio y varianza de la población (normalmente no se conoce)"
   ]
  },
  {
   "cell_type": "markdown",
   "metadata": {},
   "source": [
    "Lecturas recomendadas:\n",
    "    \n",
    "- Video [Are you Bayesian or Frequentist?](https://www.youtube.com/watch?v=GEFxFVESQXc&feature=youtu.be)\n",
    "- [Guía para encontrar la prueba estadística](https://www.maximaformacion.es/blog-dat/guia-para-encontrar-tu-prueba-estadistica/)\n",
    "- Video [StatQuest: Confidence Intervals](https://www.youtube.com/watch?v=TqOeMYtOc1w)"
   ]
  },
  {
   "cell_type": "code",
   "execution_count": null,
   "metadata": {},
   "outputs": [],
   "source": []
  }
 ],
 "metadata": {
  "kernelspec": {
   "display_name": "Python 3",
   "language": "python",
   "name": "python3"
  },
  "language_info": {
   "codemirror_mode": {
    "name": "ipython",
    "version": 3
   },
   "file_extension": ".py",
   "mimetype": "text/x-python",
   "name": "python",
   "nbconvert_exporter": "python",
   "pygments_lexer": "ipython3",
   "version": "3.8.5"
  }
 },
 "nbformat": 4,
 "nbformat_minor": 4
}
